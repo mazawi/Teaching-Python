{
 "cells": [
  {
   "cell_type": "markdown",
   "metadata": {},
   "source": [
    "#  Operations\n",
    "Mohammad Al-Azawi"
   ]
  },
  {
   "cell_type": "markdown",
   "metadata": {},
   "source": [
    "## Arithmetic Operatios "
   ]
  },
  {
   "cell_type": "markdown",
   "metadata": {},
   "source": [
    "+\tAddition\tx + y\n",
    "-\tSubtraction\tx - y\n",
    "*\tMultiplication\tx * y\n",
    "/\tDivision\tx / y\n",
    "%\tModulus\tx % y\n",
    "**\tExponentiation\tx ** y\n",
    "//\tFloor division\tx // y\n"
   ]
  },
  {
   "cell_type": "markdown",
   "metadata": {},
   "source": [
    "The following code does not add two integers and the result will be wrong, \n",
    "try it !"
   ]
  },
  {
   "cell_type": "code",
   "execution_count": 1,
   "metadata": {
    "scrolled": true
   },
   "outputs": [
    {
     "name": "stdout",
     "output_type": "stream",
     "text": [
      "Enter the first number: 6\n",
      "Enter the first number: 8\n",
      "68\n"
     ]
    }
   ],
   "source": [
    "x = input('Enter the first number: ')\n",
    "y = input('Enter the first number: ')\n",
    "z = x + y\n",
    "print (z)"
   ]
  },
  {
   "cell_type": "markdown",
   "metadata": {},
   "source": [
    "you should convert the entered values to integer or float according to the application, e.g. int \n"
   ]
  },
  {
   "cell_type": "code",
   "execution_count": 2,
   "metadata": {},
   "outputs": [
    {
     "name": "stdin",
     "output_type": "stream",
     "text": [
      "Enter the first number:  6\n",
      "Enter the first number:  8\n"
     ]
    },
    {
     "name": "stdout",
     "output_type": "stream",
     "text": [
      "14\n"
     ]
    }
   ],
   "source": [
    "x = input('Enter the first number: ')\n",
    "y = input('Enter the first number: ')\n",
    "x = int (x)\n",
    "y = int (y)\n",
    "z = x + y\n",
    "print (z)"
   ]
  },
  {
   "cell_type": "code",
   "execution_count": 3,
   "metadata": {},
   "outputs": [
    {
     "name": "stdout",
     "output_type": "stream",
     "text": [
      "Enter the first number: 6\n",
      "Enter the first number: 8\n",
      "14.0\n"
     ]
    }
   ],
   "source": [
    "x = input('Enter the first number: ')\n",
    "y = input('Enter the first number: ')\n",
    "x = float (x)\n",
    "y = float (y)\n",
    "z = x + y\n",
    "print (z)"
   ]
  },
  {
   "cell_type": "code",
   "execution_count": 3,
   "metadata": {},
   "outputs": [
    {
     "name": "stdout",
     "output_type": "stream",
     "text": [
      "x + y =  15\n",
      "x * y =  56\n",
      "x / y =  1.1428571428571428\n",
      "x // y =  1\n",
      "x - y =  1\n",
      "x % y =  1\n",
      "x ** y =  2097152\n"
     ]
    }
   ],
   "source": [
    "x = 8\n",
    "y = 7\n",
    "\n",
    "print ('x + y = ', x + y)\n",
    "print ('x * y = ', x * y)\n",
    "print ('x / y = ', x / y)\n",
    "print ('x // y = ', x // y)\n",
    "print ('x - y = ', x - y)\n",
    "print ('x % y = ', x % y)\n",
    "print ('x ** y = ', x ** y)"
   ]
  },
  {
   "cell_type": "code",
   "execution_count": null,
   "metadata": {},
   "outputs": [],
   "source": []
  }
 ],
 "metadata": {
  "kernelspec": {
   "display_name": "Python 3 (ipykernel)",
   "language": "python",
   "name": "python3"
  },
  "language_info": {
   "codemirror_mode": {
    "name": "ipython",
    "version": 3
   },
   "file_extension": ".py",
   "mimetype": "text/x-python",
   "name": "python",
   "nbconvert_exporter": "python",
   "pygments_lexer": "ipython3",
   "version": "3.9.12"
  }
 },
 "nbformat": 4,
 "nbformat_minor": 4
}
