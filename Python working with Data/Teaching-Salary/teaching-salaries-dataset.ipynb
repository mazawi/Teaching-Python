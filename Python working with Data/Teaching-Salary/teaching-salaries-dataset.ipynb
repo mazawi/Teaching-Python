{
 "cells": [
  {
   "cell_type": "markdown",
   "id": "a8a85ce1",
   "metadata": {
    "papermill": {
     "duration": 0.013804,
     "end_time": "2022-12-18T09:17:45.282876",
     "exception": false,
     "start_time": "2022-12-18T09:17:45.269072",
     "status": "completed"
    },
    "tags": []
   },
   "source": [
    "# Assigment to analyse the salary dataset"
   ]
  },
  {
   "cell_type": "markdown",
   "id": "880d1516",
   "metadata": {
    "papermill": {
     "duration": 0.019392,
     "end_time": "2022-12-18T09:17:45.314670",
     "exception": false,
     "start_time": "2022-12-18T09:17:45.295278",
     "status": "completed"
    },
    "tags": []
   },
   "source": [
    "## Read the data "
   ]
  },
  {
   "cell_type": "code",
   "execution_count": 1,
   "id": "82a00440",
   "metadata": {
    "execution": {
     "iopub.execute_input": "2022-12-18T09:17:45.352225Z",
     "iopub.status.busy": "2022-12-18T09:17:45.350779Z",
     "iopub.status.idle": "2022-12-18T09:17:45.393851Z",
     "shell.execute_reply": "2022-12-18T09:17:45.392419Z"
    },
    "papermill": {
     "duration": 0.069523,
     "end_time": "2022-12-18T09:17:45.397794",
     "exception": false,
     "start_time": "2022-12-18T09:17:45.328271",
     "status": "completed"
    },
    "tags": []
   },
   "outputs": [],
   "source": [
    "import pandas as pd\n",
    "import matplotlib.pyplot as plt\n",
    "\n",
    "df = pd.read_csv ('/kaggle/input/teaching-salaries-datset/Salaries Complete.csv')"
   ]
  },
  {
   "cell_type": "code",
   "execution_count": 2,
   "id": "1ed49f12",
   "metadata": {
    "execution": {
     "iopub.execute_input": "2022-12-18T09:17:45.423809Z",
     "iopub.status.busy": "2022-12-18T09:17:45.423018Z",
     "iopub.status.idle": "2022-12-18T09:17:45.455002Z",
     "shell.execute_reply": "2022-12-18T09:17:45.453789Z"
    },
    "papermill": {
     "duration": 0.04945,
     "end_time": "2022-12-18T09:17:45.459131",
     "exception": false,
     "start_time": "2022-12-18T09:17:45.409681",
     "status": "completed"
    },
    "tags": []
   },
   "outputs": [
    {
     "data": {
      "text/html": [
       "<div>\n",
       "<style scoped>\n",
       "    .dataframe tbody tr th:only-of-type {\n",
       "        vertical-align: middle;\n",
       "    }\n",
       "\n",
       "    .dataframe tbody tr th {\n",
       "        vertical-align: top;\n",
       "    }\n",
       "\n",
       "    .dataframe thead th {\n",
       "        text-align: right;\n",
       "    }\n",
       "</style>\n",
       "<table border=\"1\" class=\"dataframe\">\n",
       "  <thead>\n",
       "    <tr style=\"text-align: right;\">\n",
       "      <th></th>\n",
       "      <th>ID</th>\n",
       "      <th>Name</th>\n",
       "      <th>Gender</th>\n",
       "      <th>Degree</th>\n",
       "      <th>Experience</th>\n",
       "      <th>Marital Status</th>\n",
       "      <th>Dependents</th>\n",
       "      <th>Transportation</th>\n",
       "      <th>Housing</th>\n",
       "      <th>Basic</th>\n",
       "      <th>Allowance</th>\n",
       "      <th>Family</th>\n",
       "    </tr>\n",
       "  </thead>\n",
       "  <tbody>\n",
       "    <tr>\n",
       "      <th>0</th>\n",
       "      <td>18</td>\n",
       "      <td>Ab</td>\n",
       "      <td>F</td>\n",
       "      <td>Bsc</td>\n",
       "      <td>3</td>\n",
       "      <td>Married</td>\n",
       "      <td>3</td>\n",
       "      <td>100</td>\n",
       "      <td>100</td>\n",
       "      <td>400</td>\n",
       "      <td>34</td>\n",
       "      <td>90</td>\n",
       "    </tr>\n",
       "    <tr>\n",
       "      <th>1</th>\n",
       "      <td>16</td>\n",
       "      <td>Ab</td>\n",
       "      <td>F</td>\n",
       "      <td>Bsc</td>\n",
       "      <td>4</td>\n",
       "      <td>Married</td>\n",
       "      <td>2</td>\n",
       "      <td>110</td>\n",
       "      <td>88</td>\n",
       "      <td>400</td>\n",
       "      <td>44</td>\n",
       "      <td>60</td>\n",
       "    </tr>\n",
       "    <tr>\n",
       "      <th>2</th>\n",
       "      <td>1</td>\n",
       "      <td>Ah</td>\n",
       "      <td>F</td>\n",
       "      <td>Bsc</td>\n",
       "      <td>5</td>\n",
       "      <td>Married</td>\n",
       "      <td>3</td>\n",
       "      <td>120</td>\n",
       "      <td>100</td>\n",
       "      <td>400</td>\n",
       "      <td>50</td>\n",
       "      <td>90</td>\n",
       "    </tr>\n",
       "    <tr>\n",
       "      <th>3</th>\n",
       "      <td>29</td>\n",
       "      <td>Ah</td>\n",
       "      <td>F</td>\n",
       "      <td>Bsc</td>\n",
       "      <td>5</td>\n",
       "      <td>Married</td>\n",
       "      <td>0</td>\n",
       "      <td>104</td>\n",
       "      <td>102</td>\n",
       "      <td>400</td>\n",
       "      <td>50</td>\n",
       "      <td>0</td>\n",
       "    </tr>\n",
       "    <tr>\n",
       "      <th>4</th>\n",
       "      <td>20</td>\n",
       "      <td>Ab</td>\n",
       "      <td>F</td>\n",
       "      <td>Bsc</td>\n",
       "      <td>7</td>\n",
       "      <td>Married</td>\n",
       "      <td>3</td>\n",
       "      <td>105</td>\n",
       "      <td>110</td>\n",
       "      <td>410</td>\n",
       "      <td>70</td>\n",
       "      <td>90</td>\n",
       "    </tr>\n",
       "  </tbody>\n",
       "</table>\n",
       "</div>"
      ],
      "text/plain": [
       "   ID Name Gender Degree  Experience Marital Status  Dependents  \\\n",
       "0  18   Ab      F    Bsc           3        Married           3   \n",
       "1  16   Ab      F    Bsc           4        Married           2   \n",
       "2   1   Ah      F    Bsc           5        Married           3   \n",
       "3  29   Ah      F    Bsc           5        Married           0   \n",
       "4  20   Ab      F    Bsc           7        Married           3   \n",
       "\n",
       "   Transportation  Housing  Basic  Allowance  Family  \n",
       "0             100      100    400         34      90  \n",
       "1             110       88    400         44      60  \n",
       "2             120      100    400         50      90  \n",
       "3             104      102    400         50       0  \n",
       "4             105      110    410         70      90  "
      ]
     },
     "execution_count": 2,
     "metadata": {},
     "output_type": "execute_result"
    }
   ],
   "source": [
    "df.head()"
   ]
  },
  {
   "cell_type": "markdown",
   "id": "62708649",
   "metadata": {
    "papermill": {
     "duration": 0.012856,
     "end_time": "2022-12-18T09:17:45.486585",
     "exception": false,
     "start_time": "2022-12-18T09:17:45.473729",
     "status": "completed"
    },
    "tags": []
   },
   "source": [
    "# find the total salary"
   ]
  },
  {
   "cell_type": "code",
   "execution_count": 3,
   "id": "4c5cda65",
   "metadata": {
    "execution": {
     "iopub.execute_input": "2022-12-18T09:17:45.520470Z",
     "iopub.status.busy": "2022-12-18T09:17:45.520028Z",
     "iopub.status.idle": "2022-12-18T09:17:45.540839Z",
     "shell.execute_reply": "2022-12-18T09:17:45.539563Z"
    },
    "papermill": {
     "duration": 0.04079,
     "end_time": "2022-12-18T09:17:45.543937",
     "exception": false,
     "start_time": "2022-12-18T09:17:45.503147",
     "status": "completed"
    },
    "tags": []
   },
   "outputs": [
    {
     "data": {
      "text/html": [
       "<div>\n",
       "<style scoped>\n",
       "    .dataframe tbody tr th:only-of-type {\n",
       "        vertical-align: middle;\n",
       "    }\n",
       "\n",
       "    .dataframe tbody tr th {\n",
       "        vertical-align: top;\n",
       "    }\n",
       "\n",
       "    .dataframe thead th {\n",
       "        text-align: right;\n",
       "    }\n",
       "</style>\n",
       "<table border=\"1\" class=\"dataframe\">\n",
       "  <thead>\n",
       "    <tr style=\"text-align: right;\">\n",
       "      <th></th>\n",
       "      <th>ID</th>\n",
       "      <th>Name</th>\n",
       "      <th>Gender</th>\n",
       "      <th>Degree</th>\n",
       "      <th>Experience</th>\n",
       "      <th>Marital Status</th>\n",
       "      <th>Dependents</th>\n",
       "      <th>Transportation</th>\n",
       "      <th>Housing</th>\n",
       "      <th>Basic</th>\n",
       "      <th>Allowance</th>\n",
       "      <th>Family</th>\n",
       "      <th>Total</th>\n",
       "    </tr>\n",
       "  </thead>\n",
       "  <tbody>\n",
       "    <tr>\n",
       "      <th>0</th>\n",
       "      <td>18</td>\n",
       "      <td>Ab</td>\n",
       "      <td>F</td>\n",
       "      <td>Bsc</td>\n",
       "      <td>3</td>\n",
       "      <td>Married</td>\n",
       "      <td>3</td>\n",
       "      <td>100</td>\n",
       "      <td>100</td>\n",
       "      <td>400</td>\n",
       "      <td>34</td>\n",
       "      <td>90</td>\n",
       "      <td>724</td>\n",
       "    </tr>\n",
       "    <tr>\n",
       "      <th>1</th>\n",
       "      <td>16</td>\n",
       "      <td>Ab</td>\n",
       "      <td>F</td>\n",
       "      <td>Bsc</td>\n",
       "      <td>4</td>\n",
       "      <td>Married</td>\n",
       "      <td>2</td>\n",
       "      <td>110</td>\n",
       "      <td>88</td>\n",
       "      <td>400</td>\n",
       "      <td>44</td>\n",
       "      <td>60</td>\n",
       "      <td>702</td>\n",
       "    </tr>\n",
       "    <tr>\n",
       "      <th>2</th>\n",
       "      <td>1</td>\n",
       "      <td>Ah</td>\n",
       "      <td>F</td>\n",
       "      <td>Bsc</td>\n",
       "      <td>5</td>\n",
       "      <td>Married</td>\n",
       "      <td>3</td>\n",
       "      <td>120</td>\n",
       "      <td>100</td>\n",
       "      <td>400</td>\n",
       "      <td>50</td>\n",
       "      <td>90</td>\n",
       "      <td>760</td>\n",
       "    </tr>\n",
       "    <tr>\n",
       "      <th>3</th>\n",
       "      <td>29</td>\n",
       "      <td>Ah</td>\n",
       "      <td>F</td>\n",
       "      <td>Bsc</td>\n",
       "      <td>5</td>\n",
       "      <td>Married</td>\n",
       "      <td>0</td>\n",
       "      <td>104</td>\n",
       "      <td>102</td>\n",
       "      <td>400</td>\n",
       "      <td>50</td>\n",
       "      <td>0</td>\n",
       "      <td>656</td>\n",
       "    </tr>\n",
       "    <tr>\n",
       "      <th>4</th>\n",
       "      <td>20</td>\n",
       "      <td>Ab</td>\n",
       "      <td>F</td>\n",
       "      <td>Bsc</td>\n",
       "      <td>7</td>\n",
       "      <td>Married</td>\n",
       "      <td>3</td>\n",
       "      <td>105</td>\n",
       "      <td>110</td>\n",
       "      <td>410</td>\n",
       "      <td>70</td>\n",
       "      <td>90</td>\n",
       "      <td>785</td>\n",
       "    </tr>\n",
       "  </tbody>\n",
       "</table>\n",
       "</div>"
      ],
      "text/plain": [
       "   ID Name Gender Degree  Experience Marital Status  Dependents  \\\n",
       "0  18   Ab      F    Bsc           3        Married           3   \n",
       "1  16   Ab      F    Bsc           4        Married           2   \n",
       "2   1   Ah      F    Bsc           5        Married           3   \n",
       "3  29   Ah      F    Bsc           5        Married           0   \n",
       "4  20   Ab      F    Bsc           7        Married           3   \n",
       "\n",
       "   Transportation  Housing  Basic  Allowance  Family  Total  \n",
       "0             100      100    400         34      90    724  \n",
       "1             110       88    400         44      60    702  \n",
       "2             120      100    400         50      90    760  \n",
       "3             104      102    400         50       0    656  \n",
       "4             105      110    410         70      90    785  "
      ]
     },
     "execution_count": 3,
     "metadata": {},
     "output_type": "execute_result"
    }
   ],
   "source": [
    "df['Total']= df['Transportation']+df['Housing']+df['Basic']+df['Allowance']+df['Family']\n",
    "df.head()"
   ]
  },
  {
   "cell_type": "markdown",
   "id": "2f6076b3",
   "metadata": {
    "papermill": {
     "duration": 0.020558,
     "end_time": "2022-12-18T09:17:45.583373",
     "exception": false,
     "start_time": "2022-12-18T09:17:45.562815",
     "status": "completed"
    },
    "tags": []
   },
   "source": [
    "# Study the average salaries according to categories"
   ]
  },
  {
   "cell_type": "markdown",
   "id": "167dad85",
   "metadata": {
    "papermill": {
     "duration": 0.012345,
     "end_time": "2022-12-18T09:17:45.609587",
     "exception": false,
     "start_time": "2022-12-18T09:17:45.597242",
     "status": "completed"
    },
    "tags": []
   },
   "source": [
    "# Remove unuseful columns"
   ]
  },
  {
   "cell_type": "code",
   "execution_count": 4,
   "id": "3a19fb84",
   "metadata": {
    "execution": {
     "iopub.execute_input": "2022-12-18T09:17:45.637106Z",
     "iopub.status.busy": "2022-12-18T09:17:45.635863Z",
     "iopub.status.idle": "2022-12-18T09:17:45.655940Z",
     "shell.execute_reply": "2022-12-18T09:17:45.654464Z"
    },
    "papermill": {
     "duration": 0.036899,
     "end_time": "2022-12-18T09:17:45.658887",
     "exception": false,
     "start_time": "2022-12-18T09:17:45.621988",
     "status": "completed"
    },
    "tags": []
   },
   "outputs": [
    {
     "data": {
      "text/html": [
       "<div>\n",
       "<style scoped>\n",
       "    .dataframe tbody tr th:only-of-type {\n",
       "        vertical-align: middle;\n",
       "    }\n",
       "\n",
       "    .dataframe tbody tr th {\n",
       "        vertical-align: top;\n",
       "    }\n",
       "\n",
       "    .dataframe thead th {\n",
       "        text-align: right;\n",
       "    }\n",
       "</style>\n",
       "<table border=\"1\" class=\"dataframe\">\n",
       "  <thead>\n",
       "    <tr style=\"text-align: right;\">\n",
       "      <th></th>\n",
       "      <th>Gender</th>\n",
       "      <th>Degree</th>\n",
       "      <th>Experience</th>\n",
       "      <th>Marital Status</th>\n",
       "      <th>Dependents</th>\n",
       "      <th>Transportation</th>\n",
       "      <th>Housing</th>\n",
       "      <th>Basic</th>\n",
       "      <th>Allowance</th>\n",
       "      <th>Family</th>\n",
       "      <th>Total</th>\n",
       "    </tr>\n",
       "  </thead>\n",
       "  <tbody>\n",
       "    <tr>\n",
       "      <th>0</th>\n",
       "      <td>F</td>\n",
       "      <td>Bsc</td>\n",
       "      <td>3</td>\n",
       "      <td>Married</td>\n",
       "      <td>3</td>\n",
       "      <td>100</td>\n",
       "      <td>100</td>\n",
       "      <td>400</td>\n",
       "      <td>34</td>\n",
       "      <td>90</td>\n",
       "      <td>724</td>\n",
       "    </tr>\n",
       "    <tr>\n",
       "      <th>1</th>\n",
       "      <td>F</td>\n",
       "      <td>Bsc</td>\n",
       "      <td>4</td>\n",
       "      <td>Married</td>\n",
       "      <td>2</td>\n",
       "      <td>110</td>\n",
       "      <td>88</td>\n",
       "      <td>400</td>\n",
       "      <td>44</td>\n",
       "      <td>60</td>\n",
       "      <td>702</td>\n",
       "    </tr>\n",
       "    <tr>\n",
       "      <th>2</th>\n",
       "      <td>F</td>\n",
       "      <td>Bsc</td>\n",
       "      <td>5</td>\n",
       "      <td>Married</td>\n",
       "      <td>3</td>\n",
       "      <td>120</td>\n",
       "      <td>100</td>\n",
       "      <td>400</td>\n",
       "      <td>50</td>\n",
       "      <td>90</td>\n",
       "      <td>760</td>\n",
       "    </tr>\n",
       "    <tr>\n",
       "      <th>3</th>\n",
       "      <td>F</td>\n",
       "      <td>Bsc</td>\n",
       "      <td>5</td>\n",
       "      <td>Married</td>\n",
       "      <td>0</td>\n",
       "      <td>104</td>\n",
       "      <td>102</td>\n",
       "      <td>400</td>\n",
       "      <td>50</td>\n",
       "      <td>0</td>\n",
       "      <td>656</td>\n",
       "    </tr>\n",
       "    <tr>\n",
       "      <th>4</th>\n",
       "      <td>F</td>\n",
       "      <td>Bsc</td>\n",
       "      <td>7</td>\n",
       "      <td>Married</td>\n",
       "      <td>3</td>\n",
       "      <td>105</td>\n",
       "      <td>110</td>\n",
       "      <td>410</td>\n",
       "      <td>70</td>\n",
       "      <td>90</td>\n",
       "      <td>785</td>\n",
       "    </tr>\n",
       "  </tbody>\n",
       "</table>\n",
       "</div>"
      ],
      "text/plain": [
       "  Gender Degree  Experience Marital Status  Dependents  Transportation  \\\n",
       "0      F    Bsc           3        Married           3             100   \n",
       "1      F    Bsc           4        Married           2             110   \n",
       "2      F    Bsc           5        Married           3             120   \n",
       "3      F    Bsc           5        Married           0             104   \n",
       "4      F    Bsc           7        Married           3             105   \n",
       "\n",
       "   Housing  Basic  Allowance  Family  Total  \n",
       "0      100    400         34      90    724  \n",
       "1       88    400         44      60    702  \n",
       "2      100    400         50      90    760  \n",
       "3      102    400         50       0    656  \n",
       "4      110    410         70      90    785  "
      ]
     },
     "execution_count": 4,
     "metadata": {},
     "output_type": "execute_result"
    }
   ],
   "source": [
    "rem = ['ID', 'Name']\n",
    "df.drop(rem, axis = 1, inplace = True)\n",
    "df.head()"
   ]
  },
  {
   "cell_type": "markdown",
   "id": "ffbf4994",
   "metadata": {
    "papermill": {
     "duration": 0.012097,
     "end_time": "2022-12-18T09:17:45.683486",
     "exception": false,
     "start_time": "2022-12-18T09:17:45.671389",
     "status": "completed"
    },
    "tags": []
   },
   "source": [
    "# Vosualisation\n",
    "## Total vs Gender\n"
   ]
  },
  {
   "cell_type": "code",
   "execution_count": 5,
   "id": "2daf5264",
   "metadata": {
    "execution": {
     "iopub.execute_input": "2022-12-18T09:17:45.719919Z",
     "iopub.status.busy": "2022-12-18T09:17:45.719121Z",
     "iopub.status.idle": "2022-12-18T09:17:45.728524Z",
     "shell.execute_reply": "2022-12-18T09:17:45.727527Z"
    },
    "papermill": {
     "duration": 0.032873,
     "end_time": "2022-12-18T09:17:45.730898",
     "exception": false,
     "start_time": "2022-12-18T09:17:45.698025",
     "status": "completed"
    },
    "tags": []
   },
   "outputs": [
    {
     "data": {
      "text/plain": [
       "array(['F', 'M'], dtype=object)"
      ]
     },
     "execution_count": 5,
     "metadata": {},
     "output_type": "execute_result"
    }
   ],
   "source": [
    "gen = df['Gender'].unique()\n",
    "gen"
   ]
  },
  {
   "cell_type": "code",
   "execution_count": 6,
   "id": "5e88c538",
   "metadata": {
    "execution": {
     "iopub.execute_input": "2022-12-18T09:17:45.759798Z",
     "iopub.status.busy": "2022-12-18T09:17:45.759120Z",
     "iopub.status.idle": "2022-12-18T09:17:45.765463Z",
     "shell.execute_reply": "2022-12-18T09:17:45.764370Z"
    },
    "papermill": {
     "duration": 0.025016,
     "end_time": "2022-12-18T09:17:45.768304",
     "exception": false,
     "start_time": "2022-12-18T09:17:45.743288",
     "status": "completed"
    },
    "tags": []
   },
   "outputs": [],
   "source": [
    "dfF = df[df['Gender']=='F']\n",
    "dfM = df[df['Gender']=='M']\n"
   ]
  },
  {
   "cell_type": "code",
   "execution_count": 7,
   "id": "131dca2e",
   "metadata": {
    "execution": {
     "iopub.execute_input": "2022-12-18T09:17:45.795692Z",
     "iopub.status.busy": "2022-12-18T09:17:45.795297Z",
     "iopub.status.idle": "2022-12-18T09:17:46.024960Z",
     "shell.execute_reply": "2022-12-18T09:17:46.023740Z"
    },
    "papermill": {
     "duration": 0.246802,
     "end_time": "2022-12-18T09:17:46.027619",
     "exception": false,
     "start_time": "2022-12-18T09:17:45.780817",
     "status": "completed"
    },
    "tags": []
   },
   "outputs": [
    {
     "data": {
      "text/plain": [
       "<BarContainer object of 2 artists>"
      ]
     },
     "execution_count": 7,
     "metadata": {},
     "output_type": "execute_result"
    },
    {
     "data": {
      "image/png": "[encoded data removed]",
      "text/plain": [
       "<Figure size 432x288 with 1 Axes>"
      ]
     },
     "metadata": {
      "needs_background": "light"
     },
     "output_type": "display_data"
    }
   ],
   "source": [
    "mf = dfF['Total'].mean()\n",
    "mm = dfM['Total'].mean()\n",
    "x = ['Male', 'Female']\n",
    "y = [mm, mf]\n",
    "plt.barh(x, y)"
   ]
  },
  {
   "cell_type": "markdown",
   "id": "c3bed8eb",
   "metadata": {
    "papermill": {
     "duration": 0.012215,
     "end_time": "2022-12-18T09:17:46.052754",
     "exception": false,
     "start_time": "2022-12-18T09:17:46.040539",
     "status": "completed"
    },
    "tags": []
   },
   "source": [
    "# Degeree vs Total"
   ]
  },
  {
   "cell_type": "code",
   "execution_count": 8,
   "id": "c2f4e58b",
   "metadata": {
    "execution": {
     "iopub.execute_input": "2022-12-18T09:17:46.080569Z",
     "iopub.status.busy": "2022-12-18T09:17:46.080139Z",
     "iopub.status.idle": "2022-12-18T09:17:46.273997Z",
     "shell.execute_reply": "2022-12-18T09:17:46.272804Z"
    },
    "papermill": {
     "duration": 0.211023,
     "end_time": "2022-12-18T09:17:46.276554",
     "exception": false,
     "start_time": "2022-12-18T09:17:46.065531",
     "status": "completed"
    },
    "tags": []
   },
   "outputs": [
    {
     "data": {
      "text/plain": [
       "<BarContainer object of 3 artists>"
      ]
     },
     "execution_count": 8,
     "metadata": {},
     "output_type": "execute_result"
    },
    {
     "data": {
      "image/png": "[encoded data removed]",
      "text/plain": [
       "<Figure size 432x288 with 1 Axes>"
      ]
     },
     "metadata": {
      "needs_background": "light"
     },
     "output_type": "display_data"
    }
   ],
   "source": [
    "deg = df['Degree'].unique()\n",
    "dfB = df[df['Degree']=='Bsc']\n",
    "dfD = df[df['Degree']=='Diploma']\n",
    "dfM = df[df['Degree']=='Msc']\n",
    "mb = dfB['Total'].mean()\n",
    "md = dfD['Total'].mean()\n",
    "mm = dfM['Total'].mean()\n",
    "x = deg\n",
    "y = [mb, md, mm]\n",
    "plt.bar(x, y)"
   ]
  },
  {
   "cell_type": "markdown",
   "id": "5fdc15ef",
   "metadata": {
    "papermill": {
     "duration": 0.012556,
     "end_time": "2022-12-18T09:17:46.301815",
     "exception": false,
     "start_time": "2022-12-18T09:17:46.289259",
     "status": "completed"
    },
    "tags": []
   },
   "source": [
    "# Study the relationship between the Degree and the basic salary"
   ]
  },
  {
   "cell_type": "code",
   "execution_count": 9,
   "id": "35e31e43",
   "metadata": {
    "execution": {
     "iopub.execute_input": "2022-12-18T09:17:46.330154Z",
     "iopub.status.busy": "2022-12-18T09:17:46.328918Z",
     "iopub.status.idle": "2022-12-18T09:17:46.516150Z",
     "shell.execute_reply": "2022-12-18T09:17:46.515290Z"
    },
    "papermill": {
     "duration": 0.203909,
     "end_time": "2022-12-18T09:17:46.518592",
     "exception": false,
     "start_time": "2022-12-18T09:17:46.314683",
     "status": "completed"
    },
    "tags": []
   },
   "outputs": [
    {
     "data": {
      "text/plain": [
       "<BarContainer object of 3 artists>"
      ]
     },
     "execution_count": 9,
     "metadata": {},
     "output_type": "execute_result"
    },
    {
     "data": {
      "image/png": "[encoded data removed]",
      "text/plain": [
       "<Figure size 432x288 with 1 Axes>"
      ]
     },
     "metadata": {
      "needs_background": "light"
     },
     "output_type": "display_data"
    }
   ],
   "source": [
    "deg = df['Degree'].unique()\n",
    "dfB = df[df['Degree']=='Bsc']\n",
    "dfD = df[df['Degree']=='Diploma']\n",
    "dfM = df[df['Degree']=='Msc']\n",
    "mb = dfB['Basic'].mean()\n",
    "md = dfD['Basic'].mean()\n",
    "mm = dfM['Basic'].mean()\n",
    "x = deg\n",
    "y = [mb, md, mm]\n",
    "plt.bar(x, y)"
   ]
  },
  {
   "cell_type": "code",
   "execution_count": 10,
   "id": "2c5a7624",
   "metadata": {
    "execution": {
     "iopub.execute_input": "2022-12-18T09:17:46.547406Z",
     "iopub.status.busy": "2022-12-18T09:17:46.545718Z",
     "iopub.status.idle": "2022-12-18T09:17:46.562239Z",
     "shell.execute_reply": "2022-12-18T09:17:46.561031Z"
    },
    "papermill": {
     "duration": 0.033363,
     "end_time": "2022-12-18T09:17:46.564972",
     "exception": false,
     "start_time": "2022-12-18T09:17:46.531609",
     "status": "completed"
    },
    "tags": []
   },
   "outputs": [
    {
     "data": {
      "text/html": [
       "<div>\n",
       "<style scoped>\n",
       "    .dataframe tbody tr th:only-of-type {\n",
       "        vertical-align: middle;\n",
       "    }\n",
       "\n",
       "    .dataframe tbody tr th {\n",
       "        vertical-align: top;\n",
       "    }\n",
       "\n",
       "    .dataframe thead th {\n",
       "        text-align: right;\n",
       "    }\n",
       "</style>\n",
       "<table border=\"1\" class=\"dataframe\">\n",
       "  <thead>\n",
       "    <tr style=\"text-align: right;\">\n",
       "      <th></th>\n",
       "      <th>Gender</th>\n",
       "      <th>Degree</th>\n",
       "      <th>Experience</th>\n",
       "      <th>Marital Status</th>\n",
       "      <th>Dependents</th>\n",
       "      <th>Transportation</th>\n",
       "      <th>Housing</th>\n",
       "      <th>Basic</th>\n",
       "      <th>Allowance</th>\n",
       "      <th>Family</th>\n",
       "      <th>Total</th>\n",
       "    </tr>\n",
       "  </thead>\n",
       "  <tbody>\n",
       "    <tr>\n",
       "      <th>0</th>\n",
       "      <td>F</td>\n",
       "      <td>Bsc</td>\n",
       "      <td>3</td>\n",
       "      <td>Married</td>\n",
       "      <td>3</td>\n",
       "      <td>100</td>\n",
       "      <td>100</td>\n",
       "      <td>400</td>\n",
       "      <td>34</td>\n",
       "      <td>90</td>\n",
       "      <td>724</td>\n",
       "    </tr>\n",
       "    <tr>\n",
       "      <th>1</th>\n",
       "      <td>F</td>\n",
       "      <td>Bsc</td>\n",
       "      <td>4</td>\n",
       "      <td>Married</td>\n",
       "      <td>2</td>\n",
       "      <td>110</td>\n",
       "      <td>88</td>\n",
       "      <td>400</td>\n",
       "      <td>44</td>\n",
       "      <td>60</td>\n",
       "      <td>702</td>\n",
       "    </tr>\n",
       "    <tr>\n",
       "      <th>2</th>\n",
       "      <td>F</td>\n",
       "      <td>Bsc</td>\n",
       "      <td>5</td>\n",
       "      <td>Married</td>\n",
       "      <td>3</td>\n",
       "      <td>120</td>\n",
       "      <td>100</td>\n",
       "      <td>400</td>\n",
       "      <td>50</td>\n",
       "      <td>90</td>\n",
       "      <td>760</td>\n",
       "    </tr>\n",
       "    <tr>\n",
       "      <th>3</th>\n",
       "      <td>F</td>\n",
       "      <td>Bsc</td>\n",
       "      <td>5</td>\n",
       "      <td>Married</td>\n",
       "      <td>0</td>\n",
       "      <td>104</td>\n",
       "      <td>102</td>\n",
       "      <td>400</td>\n",
       "      <td>50</td>\n",
       "      <td>0</td>\n",
       "      <td>656</td>\n",
       "    </tr>\n",
       "    <tr>\n",
       "      <th>4</th>\n",
       "      <td>F</td>\n",
       "      <td>Bsc</td>\n",
       "      <td>7</td>\n",
       "      <td>Married</td>\n",
       "      <td>3</td>\n",
       "      <td>105</td>\n",
       "      <td>110</td>\n",
       "      <td>410</td>\n",
       "      <td>70</td>\n",
       "      <td>90</td>\n",
       "      <td>785</td>\n",
       "    </tr>\n",
       "  </tbody>\n",
       "</table>\n",
       "</div>"
      ],
      "text/plain": [
       "  Gender Degree  Experience Marital Status  Dependents  Transportation  \\\n",
       "0      F    Bsc           3        Married           3             100   \n",
       "1      F    Bsc           4        Married           2             110   \n",
       "2      F    Bsc           5        Married           3             120   \n",
       "3      F    Bsc           5        Married           0             104   \n",
       "4      F    Bsc           7        Married           3             105   \n",
       "\n",
       "   Housing  Basic  Allowance  Family  Total  \n",
       "0      100    400         34      90    724  \n",
       "1       88    400         44      60    702  \n",
       "2      100    400         50      90    760  \n",
       "3      102    400         50       0    656  \n",
       "4      110    410         70      90    785  "
      ]
     },
     "execution_count": 10,
     "metadata": {},
     "output_type": "execute_result"
    }
   ],
   "source": [
    "df.head()"
   ]
  },
  {
   "cell_type": "markdown",
   "id": "73a6e392",
   "metadata": {
    "papermill": {
     "duration": 0.012661,
     "end_time": "2022-12-18T09:17:46.590674",
     "exception": false,
     "start_time": "2022-12-18T09:17:46.578013",
     "status": "completed"
    },
    "tags": []
   },
   "source": []
  },
  {
   "cell_type": "code",
   "execution_count": 11,
   "id": "e7ef7fa3",
   "metadata": {
    "execution": {
     "iopub.execute_input": "2022-12-18T09:17:46.618387Z",
     "iopub.status.busy": "2022-12-18T09:17:46.617932Z",
     "iopub.status.idle": "2022-12-18T09:17:46.629137Z",
     "shell.execute_reply": "2022-12-18T09:17:46.628109Z"
    },
    "papermill": {
     "duration": 0.027763,
     "end_time": "2022-12-18T09:17:46.631410",
     "exception": false,
     "start_time": "2022-12-18T09:17:46.603647",
     "status": "completed"
    },
    "tags": []
   },
   "outputs": [
    {
     "data": {
      "text/plain": [
       "array([1, 2])"
      ]
     },
     "execution_count": 11,
     "metadata": {},
     "output_type": "execute_result"
    }
   ],
   "source": [
    "df['Gender'] = df['Gender'].replace('F',1 )\n",
    "df['Gender'] = df['Gender'].replace('M',2 )\n",
    "x = df['Gender'].unique()\n",
    "x"
   ]
  },
  {
   "cell_type": "code",
   "execution_count": 12,
   "id": "9361eb33",
   "metadata": {
    "execution": {
     "iopub.execute_input": "2022-12-18T09:17:46.660300Z",
     "iopub.status.busy": "2022-12-18T09:17:46.659197Z",
     "iopub.status.idle": "2022-12-18T09:17:46.666235Z",
     "shell.execute_reply": "2022-12-18T09:17:46.665379Z"
    },
    "papermill": {
     "duration": 0.023792,
     "end_time": "2022-12-18T09:17:46.668449",
     "exception": false,
     "start_time": "2022-12-18T09:17:46.644657",
     "status": "completed"
    },
    "tags": []
   },
   "outputs": [
    {
     "data": {
      "text/plain": [
       "array(['Married', 'Single'], dtype=object)"
      ]
     },
     "execution_count": 12,
     "metadata": {},
     "output_type": "execute_result"
    }
   ],
   "source": [
    "df['Marital Status'].unique()"
   ]
  },
  {
   "cell_type": "code",
   "execution_count": 13,
   "id": "253ca002",
   "metadata": {
    "execution": {
     "iopub.execute_input": "2022-12-18T09:17:46.697765Z",
     "iopub.status.busy": "2022-12-18T09:17:46.696906Z",
     "iopub.status.idle": "2022-12-18T09:17:46.705451Z",
     "shell.execute_reply": "2022-12-18T09:17:46.704483Z"
    },
    "papermill": {
     "duration": 0.025379,
     "end_time": "2022-12-18T09:17:46.707586",
     "exception": false,
     "start_time": "2022-12-18T09:17:46.682207",
     "status": "completed"
    },
    "tags": []
   },
   "outputs": [
    {
     "data": {
      "text/plain": [
       "array([2, 1])"
      ]
     },
     "execution_count": 13,
     "metadata": {},
     "output_type": "execute_result"
    }
   ],
   "source": [
    "df['Marital Status'] = df['Marital Status'].replace('Married',2 )\n",
    "df['Marital Status'] = df['Marital Status'].replace('Single',1 )\n",
    "x = df['Marital Status'].unique()\n",
    "x"
   ]
  },
  {
   "cell_type": "code",
   "execution_count": 14,
   "id": "49651700",
   "metadata": {
    "execution": {
     "iopub.execute_input": "2022-12-18T09:17:46.736693Z",
     "iopub.status.busy": "2022-12-18T09:17:46.736032Z",
     "iopub.status.idle": "2022-12-18T09:17:46.742533Z",
     "shell.execute_reply": "2022-12-18T09:17:46.741401Z"
    },
    "papermill": {
     "duration": 0.023752,
     "end_time": "2022-12-18T09:17:46.744743",
     "exception": false,
     "start_time": "2022-12-18T09:17:46.720991",
     "status": "completed"
    },
    "tags": []
   },
   "outputs": [
    {
     "data": {
      "text/plain": [
       "array(['Bsc', 'Diploma', 'Msc'], dtype=object)"
      ]
     },
     "execution_count": 14,
     "metadata": {},
     "output_type": "execute_result"
    }
   ],
   "source": [
    "df['Degree'].unique()"
   ]
  },
  {
   "cell_type": "code",
   "execution_count": 15,
   "id": "d45e8b85",
   "metadata": {
    "execution": {
     "iopub.execute_input": "2022-12-18T09:17:46.774064Z",
     "iopub.status.busy": "2022-12-18T09:17:46.773435Z",
     "iopub.status.idle": "2022-12-18T09:17:46.780382Z",
     "shell.execute_reply": "2022-12-18T09:17:46.779344Z"
    },
    "papermill": {
     "duration": 0.024795,
     "end_time": "2022-12-18T09:17:46.783170",
     "exception": false,
     "start_time": "2022-12-18T09:17:46.758375",
     "status": "completed"
    },
    "tags": []
   },
   "outputs": [],
   "source": [
    "df['Degree'] = df['Degree'].replace('Diploma',1 )\n",
    "df['Degree'] = df['Degree'].replace('Bsc',2 )\n",
    "df['Degree'] = df['Degree'].replace('Msc',3 )"
   ]
  },
  {
   "cell_type": "code",
   "execution_count": 16,
   "id": "d3dc9525",
   "metadata": {
    "execution": {
     "iopub.execute_input": "2022-12-18T09:17:46.811801Z",
     "iopub.status.busy": "2022-12-18T09:17:46.811389Z",
     "iopub.status.idle": "2022-12-18T09:17:46.824701Z",
     "shell.execute_reply": "2022-12-18T09:17:46.823894Z"
    },
    "papermill": {
     "duration": 0.029956,
     "end_time": "2022-12-18T09:17:46.826709",
     "exception": false,
     "start_time": "2022-12-18T09:17:46.796753",
     "status": "completed"
    },
    "tags": []
   },
   "outputs": [
    {
     "data": {
      "text/html": [
       "<div>\n",
       "<style scoped>\n",
       "    .dataframe tbody tr th:only-of-type {\n",
       "        vertical-align: middle;\n",
       "    }\n",
       "\n",
       "    .dataframe tbody tr th {\n",
       "        vertical-align: top;\n",
       "    }\n",
       "\n",
       "    .dataframe thead th {\n",
       "        text-align: right;\n",
       "    }\n",
       "</style>\n",
       "<table border=\"1\" class=\"dataframe\">\n",
       "  <thead>\n",
       "    <tr style=\"text-align: right;\">\n",
       "      <th></th>\n",
       "      <th>Gender</th>\n",
       "      <th>Degree</th>\n",
       "      <th>Experience</th>\n",
       "      <th>Marital Status</th>\n",
       "      <th>Dependents</th>\n",
       "      <th>Transportation</th>\n",
       "      <th>Housing</th>\n",
       "      <th>Basic</th>\n",
       "      <th>Allowance</th>\n",
       "      <th>Family</th>\n",
       "      <th>Total</th>\n",
       "    </tr>\n",
       "  </thead>\n",
       "  <tbody>\n",
       "    <tr>\n",
       "      <th>0</th>\n",
       "      <td>1</td>\n",
       "      <td>2</td>\n",
       "      <td>3</td>\n",
       "      <td>2</td>\n",
       "      <td>3</td>\n",
       "      <td>100</td>\n",
       "      <td>100</td>\n",
       "      <td>400</td>\n",
       "      <td>34</td>\n",
       "      <td>90</td>\n",
       "      <td>724</td>\n",
       "    </tr>\n",
       "    <tr>\n",
       "      <th>1</th>\n",
       "      <td>1</td>\n",
       "      <td>2</td>\n",
       "      <td>4</td>\n",
       "      <td>2</td>\n",
       "      <td>2</td>\n",
       "      <td>110</td>\n",
       "      <td>88</td>\n",
       "      <td>400</td>\n",
       "      <td>44</td>\n",
       "      <td>60</td>\n",
       "      <td>702</td>\n",
       "    </tr>\n",
       "    <tr>\n",
       "      <th>2</th>\n",
       "      <td>1</td>\n",
       "      <td>2</td>\n",
       "      <td>5</td>\n",
       "      <td>2</td>\n",
       "      <td>3</td>\n",
       "      <td>120</td>\n",
       "      <td>100</td>\n",
       "      <td>400</td>\n",
       "      <td>50</td>\n",
       "      <td>90</td>\n",
       "      <td>760</td>\n",
       "    </tr>\n",
       "    <tr>\n",
       "      <th>3</th>\n",
       "      <td>1</td>\n",
       "      <td>2</td>\n",
       "      <td>5</td>\n",
       "      <td>2</td>\n",
       "      <td>0</td>\n",
       "      <td>104</td>\n",
       "      <td>102</td>\n",
       "      <td>400</td>\n",
       "      <td>50</td>\n",
       "      <td>0</td>\n",
       "      <td>656</td>\n",
       "    </tr>\n",
       "    <tr>\n",
       "      <th>4</th>\n",
       "      <td>1</td>\n",
       "      <td>2</td>\n",
       "      <td>7</td>\n",
       "      <td>2</td>\n",
       "      <td>3</td>\n",
       "      <td>105</td>\n",
       "      <td>110</td>\n",
       "      <td>410</td>\n",
       "      <td>70</td>\n",
       "      <td>90</td>\n",
       "      <td>785</td>\n",
       "    </tr>\n",
       "  </tbody>\n",
       "</table>\n",
       "</div>"
      ],
      "text/plain": [
       "   Gender  Degree  Experience  Marital Status  Dependents  Transportation  \\\n",
       "0       1       2           3               2           3             100   \n",
       "1       1       2           4               2           2             110   \n",
       "2       1       2           5               2           3             120   \n",
       "3       1       2           5               2           0             104   \n",
       "4       1       2           7               2           3             105   \n",
       "\n",
       "   Housing  Basic  Allowance  Family  Total  \n",
       "0      100    400         34      90    724  \n",
       "1       88    400         44      60    702  \n",
       "2      100    400         50      90    760  \n",
       "3      102    400         50       0    656  \n",
       "4      110    410         70      90    785  "
      ]
     },
     "execution_count": 16,
     "metadata": {},
     "output_type": "execute_result"
    }
   ],
   "source": [
    "df.head()"
   ]
  },
  {
   "cell_type": "code",
   "execution_count": 17,
   "id": "3433f23f",
   "metadata": {
    "execution": {
     "iopub.execute_input": "2022-12-18T09:17:46.857172Z",
     "iopub.status.busy": "2022-12-18T09:17:46.856422Z",
     "iopub.status.idle": "2022-12-18T09:17:46.862934Z",
     "shell.execute_reply": "2022-12-18T09:17:46.862064Z"
    },
    "papermill": {
     "duration": 0.02456,
     "end_time": "2022-12-18T09:17:46.865255",
     "exception": false,
     "start_time": "2022-12-18T09:17:46.840695",
     "status": "completed"
    },
    "tags": []
   },
   "outputs": [],
   "source": [
    "# ,'Transportation', 'Housing', 'Basic', 'Allowance', 'Family'\n",
    "\n",
    "X = df[['Gender', 'Degree', 'Experience', 'Marital Status', 'Dependents' ]]\n",
    "xt = [[1, 2, 2, 1, 0]]\n",
    "y = df['Total']"
   ]
  },
  {
   "cell_type": "code",
   "execution_count": 18,
   "id": "54e7e681",
   "metadata": {
    "execution": {
     "iopub.execute_input": "2022-12-18T09:17:46.895735Z",
     "iopub.status.busy": "2022-12-18T09:17:46.894716Z",
     "iopub.status.idle": "2022-12-18T09:17:48.168982Z",
     "shell.execute_reply": "2022-12-18T09:17:48.167726Z"
    },
    "papermill": {
     "duration": 1.292538,
     "end_time": "2022-12-18T09:17:48.171936",
     "exception": false,
     "start_time": "2022-12-18T09:17:46.879398",
     "status": "completed"
    },
    "tags": []
   },
   "outputs": [
    {
     "data": {
      "text/plain": [
       "LinearRegression()"
      ]
     },
     "execution_count": 18,
     "metadata": {},
     "output_type": "execute_result"
    }
   ],
   "source": [
    "from sklearn import linear_model\n",
    "mod = linear_model.LinearRegression()\n",
    "mod.fit(X, y)"
   ]
  },
  {
   "cell_type": "code",
   "execution_count": 19,
   "id": "e5b71f3f",
   "metadata": {
    "execution": {
     "iopub.execute_input": "2022-12-18T09:17:48.201859Z",
     "iopub.status.busy": "2022-12-18T09:17:48.201429Z",
     "iopub.status.idle": "2022-12-18T09:17:48.212024Z",
     "shell.execute_reply": "2022-12-18T09:17:48.210712Z"
    },
    "papermill": {
     "duration": 0.028827,
     "end_time": "2022-12-18T09:17:48.214915",
     "exception": false,
     "start_time": "2022-12-18T09:17:48.186088",
     "status": "completed"
    },
    "tags": []
   },
   "outputs": [
    {
     "name": "stderr",
     "output_type": "stream",
     "text": [
      "/opt/conda/lib/python3.7/site-packages/sklearn/base.py:451: UserWarning: X does not have valid feature names, but LinearRegression was fitted with feature names\n",
      "  \"X does not have valid feature names, but\"\n"
     ]
    }
   ],
   "source": [
    "sal = mod.predict(xt)"
   ]
  },
  {
   "cell_type": "code",
   "execution_count": 20,
   "id": "b3991274",
   "metadata": {
    "execution": {
     "iopub.execute_input": "2022-12-18T09:17:48.246291Z",
     "iopub.status.busy": "2022-12-18T09:17:48.245319Z",
     "iopub.status.idle": "2022-12-18T09:17:48.253503Z",
     "shell.execute_reply": "2022-12-18T09:17:48.252327Z"
    },
    "papermill": {
     "duration": 0.026811,
     "end_time": "2022-12-18T09:17:48.256030",
     "exception": false,
     "start_time": "2022-12-18T09:17:48.229219",
     "status": "completed"
    },
    "tags": []
   },
   "outputs": [
    {
     "data": {
      "text/plain": [
       "array([654.04538965])"
      ]
     },
     "execution_count": 20,
     "metadata": {},
     "output_type": "execute_result"
    }
   ],
   "source": [
    "sal"
   ]
  },
  {
   "cell_type": "code",
   "execution_count": 21,
   "id": "becd141b",
   "metadata": {
    "execution": {
     "iopub.execute_input": "2022-12-18T09:17:48.286239Z",
     "iopub.status.busy": "2022-12-18T09:17:48.285805Z",
     "iopub.status.idle": "2022-12-18T09:17:49.498830Z",
     "shell.execute_reply": "2022-12-18T09:17:49.497473Z"
    },
    "papermill": {
     "duration": 1.231911,
     "end_time": "2022-12-18T09:17:49.502361",
     "exception": false,
     "start_time": "2022-12-18T09:17:48.270450",
     "status": "completed"
    },
    "tags": []
   },
   "outputs": [
    {
     "data": {
      "text/plain": [
       "Text(0.5, 1.05, ' Correlation of Features ')"
      ]
     },
     "execution_count": 21,
     "metadata": {},
     "output_type": "execute_result"
    },
    {
     "data": {
      "image/png": "[encoded data removed]",
      "text/plain": [
       "<Figure size 1008x864 with 2 Axes>"
      ]
     },
     "metadata": {
      "needs_background": "light"
     },
     "output_type": "display_data"
    }
   ],
   "source": [
    "import seaborn as sns\n",
    "_ , ax = plt.subplots(figsize =(14, 12))\n",
    "colormap = sns.diverging_palette(220, 10, as_cmap = True)\n",
    "    \n",
    "_ = sns.heatmap( df.corr(), cmap = colormap, square=True, cbar_kws={'shrink':.9 }, ax=ax, annot=True, linewidths=0.1,vmax=1.0, linecolor='white', annot_kws={'fontsize':12 })\n",
    "    \n",
    "plt.title(' Correlation of Features ', y=1.05, size=30)"
   ]
  },
  {
   "cell_type": "code",
   "execution_count": 22,
   "id": "7f07c9f6",
   "metadata": {
    "execution": {
     "iopub.execute_input": "2022-12-18T09:17:49.537475Z",
     "iopub.status.busy": "2022-12-18T09:17:49.536640Z",
     "iopub.status.idle": "2022-12-18T09:17:49.546538Z",
     "shell.execute_reply": "2022-12-18T09:17:49.545502Z"
    },
    "papermill": {
     "duration": 0.030136,
     "end_time": "2022-12-18T09:17:49.549144",
     "exception": false,
     "start_time": "2022-12-18T09:17:49.519008",
     "status": "completed"
    },
    "tags": []
   },
   "outputs": [
    {
     "data": {
      "text/plain": [
       "Gender            1.000000e+00\n",
       "Degree            8.626961e-17\n",
       "Experience        1.233409e-01\n",
       "Marital Status   -6.325821e-02\n",
       "Dependents        9.218668e-02\n",
       "Transportation   -1.002027e-01\n",
       "Housing           5.149708e-01\n",
       "Basic             4.915191e-03\n",
       "Allowance         8.234907e-02\n",
       "Family            9.218668e-02\n",
       "Total             3.223584e-01\n",
       "Name: Gender, dtype: float64"
      ]
     },
     "execution_count": 22,
     "metadata": {},
     "output_type": "execute_result"
    }
   ],
   "source": [
    "x = df.corr()['Gender']\n",
    "x"
   ]
  },
  {
   "cell_type": "code",
   "execution_count": 23,
   "id": "80cb0328",
   "metadata": {
    "execution": {
     "iopub.execute_input": "2022-12-18T09:17:49.584397Z",
     "iopub.status.busy": "2022-12-18T09:17:49.583666Z",
     "iopub.status.idle": "2022-12-18T09:17:49.852441Z",
     "shell.execute_reply": "2022-12-18T09:17:49.851065Z"
    },
    "papermill": {
     "duration": 0.28948,
     "end_time": "2022-12-18T09:17:49.855180",
     "exception": false,
     "start_time": "2022-12-18T09:17:49.565700",
     "status": "completed"
    },
    "tags": []
   },
   "outputs": [
    {
     "data": {
      "text/plain": [
       "<AxesSubplot:>"
      ]
     },
     "execution_count": 23,
     "metadata": {},
     "output_type": "execute_result"
    },
    {
     "data": {
      "image/png": "[encoded data removed]",
      "text/plain": [
       "<Figure size 432x288 with 1 Axes>"
      ]
     },
     "metadata": {
      "needs_background": "light"
     },
     "output_type": "display_data"
    }
   ],
   "source": [
    "x = abs(x)\n",
    "x = x.sort_values(ascending=False)\n",
    "x.plot(kind = 'bar')"
   ]
  },
  {
   "cell_type": "code",
   "execution_count": 24,
   "id": "81925b6f",
   "metadata": {
    "execution": {
     "iopub.execute_input": "2022-12-18T09:17:49.889910Z",
     "iopub.status.busy": "2022-12-18T09:17:49.889509Z",
     "iopub.status.idle": "2022-12-18T09:17:49.899712Z",
     "shell.execute_reply": "2022-12-18T09:17:49.898352Z"
    },
    "papermill": {
     "duration": 0.030281,
     "end_time": "2022-12-18T09:17:49.901988",
     "exception": false,
     "start_time": "2022-12-18T09:17:49.871707",
     "status": "completed"
    },
    "tags": []
   },
   "outputs": [
    {
     "data": {
      "text/plain": [
       "Gender            8.626961e-17\n",
       "Degree            1.000000e+00\n",
       "Experience       -2.235515e-01\n",
       "Marital Status    1.331932e-01\n",
       "Dependents        1.058746e-01\n",
       "Transportation   -8.710252e-02\n",
       "Housing           9.014587e-02\n",
       "Basic             7.676728e-01\n",
       "Allowance         1.067862e-01\n",
       "Family            1.058746e-01\n",
       "Total             4.335591e-01\n",
       "Name: Degree, dtype: float64"
      ]
     },
     "execution_count": 24,
     "metadata": {},
     "output_type": "execute_result"
    }
   ],
   "source": [
    "x=df.corr()['Degree']\n",
    "x"
   ]
  },
  {
   "cell_type": "code",
   "execution_count": 25,
   "id": "50cbf055",
   "metadata": {
    "execution": {
     "iopub.execute_input": "2022-12-18T09:17:49.937252Z",
     "iopub.status.busy": "2022-12-18T09:17:49.936809Z",
     "iopub.status.idle": "2022-12-18T09:17:50.192942Z",
     "shell.execute_reply": "2022-12-18T09:17:50.191612Z"
    },
    "papermill": {
     "duration": 0.276916,
     "end_time": "2022-12-18T09:17:50.195553",
     "exception": false,
     "start_time": "2022-12-18T09:17:49.918637",
     "status": "completed"
    },
    "tags": []
   },
   "outputs": [
    {
     "data": {
      "text/plain": [
       "<AxesSubplot:>"
      ]
     },
     "execution_count": 25,
     "metadata": {},
     "output_type": "execute_result"
    },
    {
     "data": {
      "image/png": "[encoded data removed]",
      "text/plain": [
       "<Figure size 432x288 with 1 Axes>"
      ]
     },
     "metadata": {
      "needs_background": "light"
     },
     "output_type": "display_data"
    }
   ],
   "source": [
    "x = abs(x)\n",
    "x = x.sort_values(ascending=False)\n",
    "x.plot(kind = 'bar')"
   ]
  },
  {
   "cell_type": "code",
   "execution_count": 26,
   "id": "c51788b2",
   "metadata": {
    "execution": {
     "iopub.execute_input": "2022-12-18T09:17:50.232396Z",
     "iopub.status.busy": "2022-12-18T09:17:50.231975Z",
     "iopub.status.idle": "2022-12-18T09:17:50.241722Z",
     "shell.execute_reply": "2022-12-18T09:17:50.240422Z"
    },
    "papermill": {
     "duration": 0.031018,
     "end_time": "2022-12-18T09:17:50.244262",
     "exception": false,
     "start_time": "2022-12-18T09:17:50.213244",
     "status": "completed"
    },
    "tags": []
   },
   "outputs": [
    {
     "data": {
      "text/plain": [
       "Gender            0.123341\n",
       "Degree           -0.223552\n",
       "Experience        1.000000\n",
       "Marital Status   -0.230169\n",
       "Dependents       -0.015823\n",
       "Transportation    0.034125\n",
       "Housing          -0.061449\n",
       "Basic            -0.116857\n",
       "Allowance         0.916401\n",
       "Family           -0.015823\n",
       "Total             0.211229\n",
       "Name: Experience, dtype: float64"
      ]
     },
     "execution_count": 26,
     "metadata": {},
     "output_type": "execute_result"
    }
   ],
   "source": [
    "x = df.corr()['Experience']\n",
    "x"
   ]
  },
  {
   "cell_type": "code",
   "execution_count": 27,
   "id": "80c2e2ea",
   "metadata": {
    "execution": {
     "iopub.execute_input": "2022-12-18T09:17:50.280941Z",
     "iopub.status.busy": "2022-12-18T09:17:50.280479Z",
     "iopub.status.idle": "2022-12-18T09:17:50.530180Z",
     "shell.execute_reply": "2022-12-18T09:17:50.528901Z"
    },
    "papermill": {
     "duration": 0.271175,
     "end_time": "2022-12-18T09:17:50.532873",
     "exception": false,
     "start_time": "2022-12-18T09:17:50.261698",
     "status": "completed"
    },
    "tags": []
   },
   "outputs": [
    {
     "data": {
      "text/plain": [
       "<AxesSubplot:>"
      ]
     },
     "execution_count": 27,
     "metadata": {},
     "output_type": "execute_result"
    },
    {
     "data": {
      "image/png": "[encoded data removed]",
      "text/plain": [
       "<Figure size 432x288 with 1 Axes>"
      ]
     },
     "metadata": {
      "needs_background": "light"
     },
     "output_type": "display_data"
    }
   ],
   "source": [
    "x = abs(x)\n",
    "x = x.sort_values(ascending=False)\n",
    "x.plot(kind = 'bar')"
   ]
  },
  {
   "cell_type": "code",
   "execution_count": 28,
   "id": "b310bc13",
   "metadata": {
    "execution": {
     "iopub.execute_input": "2022-12-18T09:17:50.571301Z",
     "iopub.status.busy": "2022-12-18T09:17:50.570747Z",
     "iopub.status.idle": "2022-12-18T09:17:50.581644Z",
     "shell.execute_reply": "2022-12-18T09:17:50.580787Z"
    },
    "papermill": {
     "duration": 0.033044,
     "end_time": "2022-12-18T09:17:50.584000",
     "exception": false,
     "start_time": "2022-12-18T09:17:50.550956",
     "status": "completed"
    },
    "tags": []
   },
   "outputs": [
    {
     "data": {
      "text/plain": [
       "Gender           -0.063258\n",
       "Degree            0.133193\n",
       "Experience       -0.230169\n",
       "Marital Status    1.000000\n",
       "Dependents        0.820130\n",
       "Transportation   -0.003053\n",
       "Housing           0.299115\n",
       "Basic             0.007990\n",
       "Allowance        -0.134538\n",
       "Family            0.820130\n",
       "Total             0.479665\n",
       "Name: Marital Status, dtype: float64"
      ]
     },
     "execution_count": 28,
     "metadata": {},
     "output_type": "execute_result"
    }
   ],
   "source": [
    "x=df.corr()['Marital Status']\n",
    "x"
   ]
  },
  {
   "cell_type": "code",
   "execution_count": 29,
   "id": "8a20cfd6",
   "metadata": {
    "execution": {
     "iopub.execute_input": "2022-12-18T09:17:50.622322Z",
     "iopub.status.busy": "2022-12-18T09:17:50.621538Z",
     "iopub.status.idle": "2022-12-18T09:17:50.872435Z",
     "shell.execute_reply": "2022-12-18T09:17:50.871107Z"
    },
    "papermill": {
     "duration": 0.27252,
     "end_time": "2022-12-18T09:17:50.875012",
     "exception": false,
     "start_time": "2022-12-18T09:17:50.602492",
     "status": "completed"
    },
    "tags": []
   },
   "outputs": [
    {
     "data": {
      "text/plain": [
       "<AxesSubplot:>"
      ]
     },
     "execution_count": 29,
     "metadata": {},
     "output_type": "execute_result"
    },
    {
     "data": {
      "image/png": "[encoded data removed]",
      "text/plain": [
       "<Figure size 432x288 with 1 Axes>"
      ]
     },
     "metadata": {
      "needs_background": "light"
     },
     "output_type": "display_data"
    }
   ],
   "source": [
    "x = abs(x)\n",
    "x = x.sort_values(ascending=False)\n",
    "x.plot(kind = 'bar')"
   ]
  },
  {
   "cell_type": "code",
   "execution_count": 30,
   "id": "0437f9ae",
   "metadata": {
    "execution": {
     "iopub.execute_input": "2022-12-18T09:17:50.913279Z",
     "iopub.status.busy": "2022-12-18T09:17:50.912516Z",
     "iopub.status.idle": "2022-12-18T09:17:50.921843Z",
     "shell.execute_reply": "2022-12-18T09:17:50.920865Z"
    },
    "papermill": {
     "duration": 0.031066,
     "end_time": "2022-12-18T09:17:50.924163",
     "exception": false,
     "start_time": "2022-12-18T09:17:50.893097",
     "status": "completed"
    },
    "tags": []
   },
   "outputs": [
    {
     "data": {
      "text/plain": [
       "Gender            0.092187\n",
       "Degree            0.105875\n",
       "Experience       -0.015823\n",
       "Marital Status    0.820130\n",
       "Dependents        1.000000\n",
       "Transportation   -0.100579\n",
       "Housing           0.470962\n",
       "Basic            -0.000964\n",
       "Allowance         0.067909\n",
       "Family            1.000000\n",
       "Total             0.702968\n",
       "Name: Dependents, dtype: float64"
      ]
     },
     "execution_count": 30,
     "metadata": {},
     "output_type": "execute_result"
    }
   ],
   "source": [
    "x=df.corr()['Dependents']\n",
    "x"
   ]
  },
  {
   "cell_type": "code",
   "execution_count": 31,
   "id": "0d57a992",
   "metadata": {
    "execution": {
     "iopub.execute_input": "2022-12-18T09:17:50.962257Z",
     "iopub.status.busy": "2022-12-18T09:17:50.961586Z",
     "iopub.status.idle": "2022-12-18T09:17:51.208494Z",
     "shell.execute_reply": "2022-12-18T09:17:51.207619Z"
    },
    "papermill": {
     "duration": 0.268956,
     "end_time": "2022-12-18T09:17:51.210977",
     "exception": false,
     "start_time": "2022-12-18T09:17:50.942021",
     "status": "completed"
    },
    "tags": []
   },
   "outputs": [
    {
     "data": {
      "text/plain": [
       "<AxesSubplot:>"
      ]
     },
     "execution_count": 31,
     "metadata": {},
     "output_type": "execute_result"
    },
    {
     "data": {
      "image/png": "[encoded data removed]",
      "text/plain": [
       "<Figure size 432x288 with 1 Axes>"
      ]
     },
     "metadata": {
      "needs_background": "light"
     },
     "output_type": "display_data"
    }
   ],
   "source": [
    "x = abs(x)\n",
    "x = x.sort_values(ascending=False)\n",
    "x.plot(kind = 'bar')"
   ]
  },
  {
   "cell_type": "code",
   "execution_count": 32,
   "id": "30258778",
   "metadata": {
    "execution": {
     "iopub.execute_input": "2022-12-18T09:17:51.251995Z",
     "iopub.status.busy": "2022-12-18T09:17:51.251248Z",
     "iopub.status.idle": "2022-12-18T09:17:51.259657Z",
     "shell.execute_reply": "2022-12-18T09:17:51.258808Z"
    },
    "papermill": {
     "duration": 0.031386,
     "end_time": "2022-12-18T09:17:51.261711",
     "exception": false,
     "start_time": "2022-12-18T09:17:51.230325",
     "status": "completed"
    },
    "tags": []
   },
   "outputs": [
    {
     "data": {
      "text/plain": [
       "Gender           -0.100203\n",
       "Degree           -0.087103\n",
       "Experience        0.034125\n",
       "Marital Status   -0.003053\n",
       "Dependents       -0.100579\n",
       "Transportation    1.000000\n",
       "Housing           0.017187\n",
       "Basic             0.046203\n",
       "Allowance        -0.025800\n",
       "Family           -0.100579\n",
       "Total             0.028498\n",
       "Name: Transportation, dtype: float64"
      ]
     },
     "execution_count": 32,
     "metadata": {},
     "output_type": "execute_result"
    }
   ],
   "source": [
    "x =df.corr()['Transportation']\n",
    "x"
   ]
  },
  {
   "cell_type": "code",
   "execution_count": 33,
   "id": "f87412b3",
   "metadata": {
    "execution": {
     "iopub.execute_input": "2022-12-18T09:17:51.301397Z",
     "iopub.status.busy": "2022-12-18T09:17:51.300641Z",
     "iopub.status.idle": "2022-12-18T09:17:51.551695Z",
     "shell.execute_reply": "2022-12-18T09:17:51.550844Z"
    },
    "papermill": {
     "duration": 0.273633,
     "end_time": "2022-12-18T09:17:51.554059",
     "exception": false,
     "start_time": "2022-12-18T09:17:51.280426",
     "status": "completed"
    },
    "tags": []
   },
   "outputs": [
    {
     "data": {
      "text/plain": [
       "<AxesSubplot:>"
      ]
     },
     "execution_count": 33,
     "metadata": {},
     "output_type": "execute_result"
    },
    {
     "data": {
      "image/png": "[encoded data removed]",
      "text/plain": [
       "<Figure size 432x288 with 1 Axes>"
      ]
     },
     "metadata": {
      "needs_background": "light"
     },
     "output_type": "display_data"
    }
   ],
   "source": [
    "x = abs(x)\n",
    "x = x.sort_values(ascending=False)\n",
    "x.plot(kind = 'bar')"
   ]
  },
  {
   "cell_type": "code",
   "execution_count": 34,
   "id": "28855c6a",
   "metadata": {
    "execution": {
     "iopub.execute_input": "2022-12-18T09:17:51.595142Z",
     "iopub.status.busy": "2022-12-18T09:17:51.594383Z",
     "iopub.status.idle": "2022-12-18T09:17:51.603349Z",
     "shell.execute_reply": "2022-12-18T09:17:51.601857Z"
    },
    "papermill": {
     "duration": 0.032735,
     "end_time": "2022-12-18T09:17:51.606060",
     "exception": false,
     "start_time": "2022-12-18T09:17:51.573325",
     "status": "completed"
    },
    "tags": []
   },
   "outputs": [
    {
     "data": {
      "text/plain": [
       "Gender            0.514971\n",
       "Degree            0.090146\n",
       "Experience       -0.061449\n",
       "Marital Status    0.299115\n",
       "Dependents        0.470962\n",
       "Transportation    0.017187\n",
       "Housing           1.000000\n",
       "Basic             0.061815\n",
       "Allowance        -0.051869\n",
       "Family            0.470962\n",
       "Total             0.722441\n",
       "Name: Housing, dtype: float64"
      ]
     },
     "execution_count": 34,
     "metadata": {},
     "output_type": "execute_result"
    }
   ],
   "source": [
    "x=df.corr()['Housing']\n",
    "x"
   ]
  },
  {
   "cell_type": "code",
   "execution_count": 35,
   "id": "daed9e06",
   "metadata": {
    "execution": {
     "iopub.execute_input": "2022-12-18T09:17:51.645773Z",
     "iopub.status.busy": "2022-12-18T09:17:51.645348Z",
     "iopub.status.idle": "2022-12-18T09:17:52.024957Z",
     "shell.execute_reply": "2022-12-18T09:17:52.023774Z"
    },
    "papermill": {
     "duration": 0.40224,
     "end_time": "2022-12-18T09:17:52.027328",
     "exception": false,
     "start_time": "2022-12-18T09:17:51.625088",
     "status": "completed"
    },
    "tags": []
   },
   "outputs": [
    {
     "data": {
      "text/plain": [
       "<AxesSubplot:>"
      ]
     },
     "execution_count": 35,
     "metadata": {},
     "output_type": "execute_result"
    },
    {
     "data": {
      "image/png": "[encoded data removed]",
      "text/plain": [
       "<Figure size 432x288 with 1 Axes>"
      ]
     },
     "metadata": {
      "needs_background": "light"
     },
     "output_type": "display_data"
    }
   ],
   "source": [
    "x = abs(x)\n",
    "x = x.sort_values(ascending=False)\n",
    "x.plot(kind = 'bar')"
   ]
  },
  {
   "cell_type": "code",
   "execution_count": 36,
   "id": "c9b96c66",
   "metadata": {
    "execution": {
     "iopub.execute_input": "2022-12-18T09:17:52.069602Z",
     "iopub.status.busy": "2022-12-18T09:17:52.069177Z",
     "iopub.status.idle": "2022-12-18T09:17:52.078690Z",
     "shell.execute_reply": "2022-12-18T09:17:52.077400Z"
    },
    "papermill": {
     "duration": 0.034656,
     "end_time": "2022-12-18T09:17:52.081378",
     "exception": false,
     "start_time": "2022-12-18T09:17:52.046722",
     "status": "completed"
    },
    "tags": []
   },
   "outputs": [
    {
     "data": {
      "text/plain": [
       "Gender            0.004915\n",
       "Degree            0.767673\n",
       "Experience       -0.116857\n",
       "Marital Status    0.007990\n",
       "Dependents       -0.000964\n",
       "Transportation    0.046203\n",
       "Housing           0.061815\n",
       "Basic             1.000000\n",
       "Allowance         0.144019\n",
       "Family           -0.000964\n",
       "Total             0.484596\n",
       "Name: Basic, dtype: float64"
      ]
     },
     "execution_count": 36,
     "metadata": {},
     "output_type": "execute_result"
    }
   ],
   "source": [
    "x=df.corr()['Basic']\n",
    "x"
   ]
  },
  {
   "cell_type": "code",
   "execution_count": 37,
   "id": "c90fe877",
   "metadata": {
    "execution": {
     "iopub.execute_input": "2022-12-18T09:17:52.122448Z",
     "iopub.status.busy": "2022-12-18T09:17:52.122002Z",
     "iopub.status.idle": "2022-12-18T09:17:52.376668Z",
     "shell.execute_reply": "2022-12-18T09:17:52.375307Z"
    },
    "papermill": {
     "duration": 0.278335,
     "end_time": "2022-12-18T09:17:52.379420",
     "exception": false,
     "start_time": "2022-12-18T09:17:52.101085",
     "status": "completed"
    },
    "tags": []
   },
   "outputs": [
    {
     "data": {
      "text/plain": [
       "<AxesSubplot:>"
      ]
     },
     "execution_count": 37,
     "metadata": {},
     "output_type": "execute_result"
    },
    {
     "data": {
      "image/png": "[encoded data removed]",
      "text/plain": [
       "<Figure size 432x288 with 1 Axes>"
      ]
     },
     "metadata": {
      "needs_background": "light"
     },
     "output_type": "display_data"
    }
   ],
   "source": [
    "x = abs(x)\n",
    "x = x.sort_values(ascending=False)\n",
    "x.plot(kind = 'bar')"
   ]
  },
  {
   "cell_type": "code",
   "execution_count": 38,
   "id": "bf39f1bc",
   "metadata": {
    "execution": {
     "iopub.execute_input": "2022-12-18T09:17:52.421150Z",
     "iopub.status.busy": "2022-12-18T09:17:52.420689Z",
     "iopub.status.idle": "2022-12-18T09:17:52.430791Z",
     "shell.execute_reply": "2022-12-18T09:17:52.429459Z"
    },
    "papermill": {
     "duration": 0.033819,
     "end_time": "2022-12-18T09:17:52.433251",
     "exception": false,
     "start_time": "2022-12-18T09:17:52.399432",
     "status": "completed"
    },
    "tags": []
   },
   "outputs": [
    {
     "data": {
      "text/plain": [
       "Gender            0.082349\n",
       "Degree            0.106786\n",
       "Experience        0.916401\n",
       "Marital Status   -0.134538\n",
       "Dependents        0.067909\n",
       "Transportation   -0.025800\n",
       "Housing          -0.051869\n",
       "Basic             0.144019\n",
       "Allowance         1.000000\n",
       "Family            0.067909\n",
       "Total             0.383122\n",
       "Name: Allowance, dtype: float64"
      ]
     },
     "execution_count": 38,
     "metadata": {},
     "output_type": "execute_result"
    }
   ],
   "source": [
    "x=df.corr()['Allowance']\n",
    "x"
   ]
  },
  {
   "cell_type": "code",
   "execution_count": 39,
   "id": "4cd291e0",
   "metadata": {
    "execution": {
     "iopub.execute_input": "2022-12-18T09:17:52.476247Z",
     "iopub.status.busy": "2022-12-18T09:17:52.475183Z",
     "iopub.status.idle": "2022-12-18T09:17:52.721913Z",
     "shell.execute_reply": "2022-12-18T09:17:52.720853Z"
    },
    "papermill": {
     "duration": 0.270638,
     "end_time": "2022-12-18T09:17:52.724382",
     "exception": false,
     "start_time": "2022-12-18T09:17:52.453744",
     "status": "completed"
    },
    "tags": []
   },
   "outputs": [
    {
     "data": {
      "text/plain": [
       "<AxesSubplot:>"
      ]
     },
     "execution_count": 39,
     "metadata": {},
     "output_type": "execute_result"
    },
    {
     "data": {
      "image/png": "[encoded data removed]",
      "text/plain": [
       "<Figure size 432x288 with 1 Axes>"
      ]
     },
     "metadata": {
      "needs_background": "light"
     },
     "output_type": "display_data"
    }
   ],
   "source": [
    "x = abs(x)\n",
    "x = x.sort_values(ascending=False)\n",
    "x.plot(kind = 'bar')"
   ]
  },
  {
   "cell_type": "code",
   "execution_count": 40,
   "id": "a5d4a3a4",
   "metadata": {
    "execution": {
     "iopub.execute_input": "2022-12-18T09:17:52.767998Z",
     "iopub.status.busy": "2022-12-18T09:17:52.767206Z",
     "iopub.status.idle": "2022-12-18T09:17:52.776792Z",
     "shell.execute_reply": "2022-12-18T09:17:52.775600Z"
    },
    "papermill": {
     "duration": 0.034053,
     "end_time": "2022-12-18T09:17:52.779341",
     "exception": false,
     "start_time": "2022-12-18T09:17:52.745288",
     "status": "completed"
    },
    "tags": []
   },
   "outputs": [
    {
     "data": {
      "text/plain": [
       "Gender            0.092187\n",
       "Degree            0.105875\n",
       "Experience       -0.015823\n",
       "Marital Status    0.820130\n",
       "Dependents        1.000000\n",
       "Transportation   -0.100579\n",
       "Housing           0.470962\n",
       "Basic            -0.000964\n",
       "Allowance         0.067909\n",
       "Family            1.000000\n",
       "Total             0.702968\n",
       "Name: Family, dtype: float64"
      ]
     },
     "execution_count": 40,
     "metadata": {},
     "output_type": "execute_result"
    }
   ],
   "source": [
    "x=df.corr()['Family']\n",
    "x"
   ]
  },
  {
   "cell_type": "code",
   "execution_count": 41,
   "id": "becf9c16",
   "metadata": {
    "execution": {
     "iopub.execute_input": "2022-12-18T09:17:52.823181Z",
     "iopub.status.busy": "2022-12-18T09:17:52.822718Z",
     "iopub.status.idle": "2022-12-18T09:17:53.034386Z",
     "shell.execute_reply": "2022-12-18T09:17:53.033142Z"
    },
    "papermill": {
     "duration": 0.236177,
     "end_time": "2022-12-18T09:17:53.036931",
     "exception": false,
     "start_time": "2022-12-18T09:17:52.800754",
     "status": "completed"
    },
    "tags": []
   },
   "outputs": [
    {
     "data": {
      "text/plain": [
       "<AxesSubplot:>"
      ]
     },
     "execution_count": 41,
     "metadata": {},
     "output_type": "execute_result"
    },
    {
     "data": {
      "image/png": "[encoded data removed]",
      "text/plain": [
       "<Figure size 432x288 with 1 Axes>"
      ]
     },
     "metadata": {
      "needs_background": "light"
     },
     "output_type": "display_data"
    }
   ],
   "source": [
    "x = abs(x)\n",
    "x = x.sort_values(ascending=False)\n",
    "x.plot(kind = 'bar')"
   ]
  },
  {
   "cell_type": "code",
   "execution_count": 42,
   "id": "7c57d9bd",
   "metadata": {
    "execution": {
     "iopub.execute_input": "2022-12-18T09:17:53.081476Z",
     "iopub.status.busy": "2022-12-18T09:17:53.080836Z",
     "iopub.status.idle": "2022-12-18T09:17:53.091305Z",
     "shell.execute_reply": "2022-12-18T09:17:53.090233Z"
    },
    "papermill": {
     "duration": 0.036285,
     "end_time": "2022-12-18T09:17:53.094062",
     "exception": false,
     "start_time": "2022-12-18T09:17:53.057777",
     "status": "completed"
    },
    "tags": []
   },
   "outputs": [
    {
     "data": {
      "text/plain": [
       "Gender            0.322358\n",
       "Degree            0.433559\n",
       "Experience        0.211229\n",
       "Marital Status    0.479665\n",
       "Dependents        0.702968\n",
       "Transportation    0.028498\n",
       "Housing           0.722441\n",
       "Basic             0.484596\n",
       "Allowance         0.383122\n",
       "Family            0.702968\n",
       "Total             1.000000\n",
       "Name: Total, dtype: float64"
      ]
     },
     "execution_count": 42,
     "metadata": {},
     "output_type": "execute_result"
    }
   ],
   "source": [
    "x =df.corr()['Total']\n",
    "x"
   ]
  },
  {
   "cell_type": "code",
   "execution_count": 43,
   "id": "69ff30c3",
   "metadata": {
    "execution": {
     "iopub.execute_input": "2022-12-18T09:17:53.137907Z",
     "iopub.status.busy": "2022-12-18T09:17:53.137513Z",
     "iopub.status.idle": "2022-12-18T09:17:53.391148Z",
     "shell.execute_reply": "2022-12-18T09:17:53.389958Z"
    },
    "papermill": {
     "duration": 0.278902,
     "end_time": "2022-12-18T09:17:53.394124",
     "exception": false,
     "start_time": "2022-12-18T09:17:53.115222",
     "status": "completed"
    },
    "tags": []
   },
   "outputs": [
    {
     "data": {
      "text/plain": [
       "<AxesSubplot:>"
      ]
     },
     "execution_count": 43,
     "metadata": {},
     "output_type": "execute_result"
    },
    {
     "data": {
      "image/png": "[encoded data removed]",
      "text/plain": [
       "<Figure size 432x288 with 1 Axes>"
      ]
     },
     "metadata": {
      "needs_background": "light"
     },
     "output_type": "display_data"
    }
   ],
   "source": [
    "x = abs(x)\n",
    "x = x.sort_values(ascending=False)\n",
    "x.plot(kind = 'bar')"
   ]
  },
  {
   "cell_type": "code",
   "execution_count": null,
   "id": "8a7f5249",
   "metadata": {
    "papermill": {
     "duration": 0.021016,
     "end_time": "2022-12-18T09:17:53.436989",
     "exception": false,
     "start_time": "2022-12-18T09:17:53.415973",
     "status": "completed"
    },
    "tags": []
   },
   "outputs": [],
   "source": []
  }
 ],
 "metadata": {
  "kernelspec": {
   "display_name": "Python 3",
   "language": "python",
   "name": "python3"
  },
  "language_info": {
   "codemirror_mode": {
    "name": "ipython",
    "version": 3
   },
   "file_extension": ".py",
   "mimetype": "text/x-python",
   "name": "python",
   "nbconvert_exporter": "python",
   "pygments_lexer": "ipython3",
   "version": "3.7.12"
  },
  "papermill": {
   "default_parameters": {},
   "duration": 18.054304,
   "end_time": "2022-12-18T09:17:54.382315",
   "environment_variables": {},
   "exception": null,
   "input_path": "__notebook__.ipynb",
   "output_path": "__notebook__.ipynb",
   "parameters": {},
   "start_time": "2022-12-18T09:17:36.328011",
   "version": "2.3.4"
  }
 },
 "nbformat": 4,
 "nbformat_minor": 5
}
