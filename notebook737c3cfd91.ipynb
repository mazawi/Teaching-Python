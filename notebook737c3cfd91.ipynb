{
 "cells": [
  {
   "cell_type": "code",
   "execution_count": 1,
   "id": "38bbc36f",
   "metadata": {
    "_cell_guid": "b1076dfc-b9ad-4769-8c92-a6c4dae69d19",
    "_uuid": "8f2839f25d086af736a60e9eeb907d3b93b6e0e5",
    "execution": {
     "iopub.execute_input": "2023-04-05T20:06:35.561596Z",
     "iopub.status.busy": "2023-04-05T20:06:35.561072Z",
     "iopub.status.idle": "2023-04-05T20:06:35.602203Z",
     "shell.execute_reply": "2023-04-05T20:06:35.600971Z"
    },
    "papermill": {
     "duration": 0.049063,
     "end_time": "2023-04-05T20:06:35.605405",
     "exception": false,
     "start_time": "2023-04-05T20:06:35.556342",
     "status": "completed"
    },
    "tags": []
   },
   "outputs": [
    {
     "name": "stdout",
     "output_type": "stream",
     "text": [
      "/kaggle/input/teaching/Gender from Names.csv\n",
      "/kaggle/input/teaching/Department with missing values.csv\n",
      "/kaggle/input/teaching/CO2_sum.csv\n",
      "/kaggle/input/teaching/Kmean1.csv\n",
      "/kaggle/input/teaching/cars recommemder.csv\n",
      "/kaggle/input/teaching/GPA.csv\n",
      "/kaggle/input/teaching/CO2.csv\n",
      "/kaggle/input/teaching/department with course and students.csv\n",
      "/kaggle/input/teaching/houses prices.csv\n",
      "/kaggle/input/teaching/Kmean2.csv\n"
     ]
    }
   ],
   "source": [
    "# This Python 3 environment comes with many helpful analytics libraries installed\n",
    "# It is defined by the kaggle/python Docker image: https://github.com/kaggle/docker-python\n",
    "# For example, here's several helpful packages to load\n",
    "\n",
    "import numpy as np # linear algebra\n",
    "import pandas as pd # data processing, CSV file I/O (e.g. pd.read_csv)\n",
    "\n",
    "# Input data files are available in the read-only \"../input/\" directory\n",
    "# For example, running this (by clicking run or pressing Shift+Enter) will list all files under the input directory\n",
    "\n",
    "import os\n",
    "for dirname, _, filenames in os.walk('/kaggle/input'):\n",
    "    for filename in filenames:\n",
    "        print(os.path.join(dirname, filename))\n",
    "\n",
    "# You can write up to 20GB to the current directory (/kaggle/working/) that gets preserved as output when you create a version using \"Save & Run All\" \n",
    "# You can also write temporary files to /kaggle/temp/, but they won't be saved outside of the current session"
   ]
  }
 ],
 "metadata": {
  "kernelspec": {
   "display_name": "Python 3",
   "language": "python",
   "name": "python3"
  },
  "language_info": {
   "codemirror_mode": {
    "name": "ipython",
    "version": 3
   },
   "file_extension": ".py",
   "mimetype": "text/x-python",
   "name": "python",
   "nbconvert_exporter": "python",
   "pygments_lexer": "ipython3",
   "version": "3.7.12"
  },
  "papermill": {
   "default_parameters": {},
   "duration": 10.453675,
   "end_time": "2023-04-05T20:06:36.228886",
   "environment_variables": {},
   "exception": null,
   "input_path": "__notebook__.ipynb",
   "output_path": "__notebook__.ipynb",
   "parameters": {},
   "start_time": "2023-04-05T20:06:25.775211",
   "version": "2.4.0"
  }
 },
 "nbformat": 4,
 "nbformat_minor": 5
}
