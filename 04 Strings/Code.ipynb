{
 "cells": [
  {
   "cell_type": "markdown",
   "metadata": {},
   "source": [
    "# Strings\n",
    "## Basics of Strings\n",
    "\n",
    "   - In Python, a string is a sequence of characters. \n",
    "   - It can contain letters, numbers, and symbols, making it a versatile data type for representing text data.\n",
    "\n",
    "**Characteristics:**\n",
    "   - \"Strings are enclosed in single (' ') or double (\" \") quotes.\"\n",
    "   - \"They can represent single characters or entire paragraphs.\"\n",
    "\n",
    "Example:\n"
   ]
  },
  {
   "cell_type": "code",
   "execution_count": 9,
   "metadata": {},
   "outputs": [
    {
     "name": "stdout",
     "output_type": "stream",
     "text": [
      "string with double qoutes Welcome to the Strings World.\n",
      "string with single qoutes Hello, Python!\n"
     ]
    }
   ],
   "source": [
    "greeting_single = 'Hello, Python!'\n",
    "greeting_double = \"Welcome to the Strings World.\"\n",
    "print(\"string with double qoutes\", greeting_double)\n",
    "print(\"string with single qoutes\", greeting_single)"
   ]
  },
  {
   "cell_type": "markdown",
   "metadata": {},
   "source": [
    "**Use Cases:**\n",
    "   - \"Strings are commonly used for:\"\n",
    "     - \"Storing names and sentences.\"\n",
    "     - \"Processing textual data.\"\n",
    "     - \"Working with user inputs and messages.\"\n",
    "\n",
    "**String Immunity:**\n",
    "   - \"Strings in Python are immutable, meaning their values cannot be changed after creation. \n",
    "   - Operations on strings create new strings.\"\n",
    "\n",
    "**Type Function:**\n",
    "   - Use of `type()` function to check the data type:\n",
    "```python\n",
    "type_of_string = type(\"Hello, Python!\")\n",
    "```"
   ]
  },
  {
   "cell_type": "code",
   "execution_count": 12,
   "metadata": {},
   "outputs": [
    {
     "name": "stdout",
     "output_type": "stream",
     "text": [
      "<class 'str'>\n"
     ]
    }
   ],
   "source": [
    "type_of_string = type(\"Hello, Python!\")\n",
    "print(type_of_string)"
   ]
  },
  {
   "cell_type": "markdown",
   "metadata": {},
   "source": [
    "**Benefits of Strings:**\n",
    "   - \"Strings provide flexibility for handling diverse forms of textual information.\"\n",
    "   - \"They are essential for a wide range of applications, from simple text processing to complex data analysis.\"\n"
   ]
  },
  {
   "cell_type": "markdown",
   "metadata": {},
   "source": [
    "## Creating Strings\n",
    "\n",
    "   - Strings are sequences of characters, and we can represent text data in various ways.\"\n",
    "\n",
    "**Single and Double Quotes:**\n",
    "   - \"Strings can be created using single (' ') or double (\" \") quotes.\"\n",
    "   - Example:\n",
    "     ```python\n",
    "     single_quotes = 'Hello, Python!'\n",
    "     double_quotes = \"Strings are versatile.\"\n",
    "     ```"
   ]
  },
  {
   "cell_type": "code",
   "execution_count": 13,
   "metadata": {},
   "outputs": [],
   "source": [
    "single_quotes = 'Hello, Python!'\n",
    "double_quotes = \"Strings are versatile.\""
   ]
  },
  {
   "cell_type": "markdown",
   "metadata": {},
   "source": [
    "**Mixing Quotes:**\n",
    "   - \"You can mix single and double quotes, but it's essential to be consistent.\"\n",
    "   - Example:\n",
    "     ```python\n",
    "     mixed_quotes = \"It's a beautiful day.\"\n",
    "     ```"
   ]
  },
  {
   "cell_type": "code",
   "execution_count": 14,
   "metadata": {},
   "outputs": [],
   "source": [
    "mixed_quotes = \"It's a beautiful day.\"\n"
   ]
  },
  {
   "cell_type": "markdown",
   "metadata": {},
   "source": [
    "**Triple Quotes:**\n",
    "   - \"Triple quotes (`'''` or `\"\"\"`) are used for multiline strings.\"\n",
    "   - Example:\n",
    "     ```python\n",
    "     multiline_string = '''\n",
    "     This is a multiline\n",
    "     string in Python.\n",
    "     '''\n",
    "     ```"
   ]
  },
  {
   "cell_type": "code",
   "execution_count": 16,
   "metadata": {},
   "outputs": [
    {
     "name": "stdout",
     "output_type": "stream",
     "text": [
      "\n",
      "     This is a multiline\n",
      "     string in Python.\n",
      "     \n"
     ]
    }
   ],
   "source": [
    "multiline_string = '''\n",
    "     This is a multiline\n",
    "     string in Python.\n",
    "     '''\n",
    "print(multiline_string)"
   ]
  },
  {
   "cell_type": "markdown",
   "metadata": {},
   "source": [
    "## String Concatenation\n",
    "\n",
    "**Introduction:**\n",
    "   - String concatenation is the process of combining or joining strings to create a new string.\n",
    "\n",
    "**Code Example:**\n",
    "\n",
    "```python\n",
    "greeting = \"Hello\"\n",
    "name = \"Ali\"\n",
    "full_greeting = greeting + \" \" + name\n",
    "```\n",
    "\n",
    "**Explanation:**\n",
    "   - in this code:\n",
    "     - `greeting`: Contains the string \"Hello\".\n",
    "     - `name`: Contains the string \"Ali\".\n",
    "     - `full_greeting`: Concatenates the two strings with a space in between."
   ]
  },
  {
   "cell_type": "code",
   "execution_count": 17,
   "metadata": {},
   "outputs": [
    {
     "name": "stdout",
     "output_type": "stream",
     "text": [
      "Hello Ali\n"
     ]
    }
   ],
   "source": [
    "greeting = \"Hello\"\n",
    "name = \"Ali\"\n",
    "full_greeting = greeting + \" \" + name\n",
    "print(full_greeting)"
   ]
  },
  {
   "cell_type": "markdown",
   "metadata": {},
   "source": [
    "**Concatenation with Variables:**\n",
    "   - variables containing strings can be concatenated using the `+` operator.\n",
    "   - Example:\n",
    "     ```python\n",
    "     part_1 = \"Python is\"\n",
    "     part_2 = \" powerful!\"\n",
    "     combined_sentence = part_1 + part_2"
   ]
  },
  {
   "cell_type": "code",
   "execution_count": 18,
   "metadata": {},
   "outputs": [
    {
     "name": "stdout",
     "output_type": "stream",
     "text": [
      "Python is powerful!\n"
     ]
    }
   ],
   "source": [
    "part_1 = \"Python is\"\n",
    "part_2 = \" powerful!\"\n",
    "combined_sentence = part_1 + part_2\n",
    "print(combined_sentence)"
   ]
  },
  {
   "cell_type": "markdown",
   "metadata": {},
   "source": [
    "**Concatenation with Numbers:**\n",
    "   - Highlight that you can concatenate strings and numbers by converting the number to a string:\n",
    "     ```python\n",
    "     age = 25\n",
    "     message = \"I am \" + str(age) + \" years old.\"\n",
    "     ```"
   ]
  },
  {
   "cell_type": "code",
   "execution_count": 20,
   "metadata": {},
   "outputs": [
    {
     "name": "stdout",
     "output_type": "stream",
     "text": [
      "I am 25 years old.\n"
     ]
    }
   ],
   "source": [
    "age = 25\n",
    "message = \"I am \" + str(age) + \" years old.\"\n",
    "print(message)"
   ]
  },
  {
   "cell_type": "markdown",
   "metadata": {},
   "source": [
    "## String Indexing in Python\n",
    "\n",
    "**Introduction:**\n",
    "   - String indexing allows us to access individual characters within a string. In Python, indexing starts at 0, making the first character at index 0.\n",
    "\n",
    "**Example Code:**\n",
    "   - \"Let's consider the following example:\"\n",
    "     ```python\n",
    "     message = \"Python\"\n",
    "     first_char = message[0]  # Accessing the first character\n",
    "     ```"
   ]
  },
  {
   "cell_type": "code",
   "execution_count": 21,
   "metadata": {},
   "outputs": [
    {
     "name": "stdout",
     "output_type": "stream",
     "text": [
      "P\n"
     ]
    }
   ],
   "source": [
    "message = \"Python\"\n",
    "first_char = message[0]  # Accessing the first character\n",
    "print(first_char)"
   ]
  },
  {
   "cell_type": "markdown",
   "metadata": {},
   "source": [
    "**Zero-Based Indexing:**\n",
    "   - In Python, indexing is zero-based. This means the first character is at index 0, the second at index 1, and so on.\n",
    "\n",
    "**Negative Indexing:**\n",
    "   - Negative indexing allows us to access characters from the end of the string. The last character is at index -1, the second-to-last at index -2, and so forth.\n",
    "\n",
    "     ```python\n",
    "     last_char = message[-1]  # Accessing the last character\n",
    "     ```\n",
    "\n",
    "**Use Cases:**\n",
    "   - String indexing is useful for extracting specific characters or substrings. It plays a crucial role in various string manipulations.\n",
    "\n"
   ]
  },
  {
   "cell_type": "code",
   "execution_count": 22,
   "metadata": {},
   "outputs": [
    {
     "name": "stdout",
     "output_type": "stream",
     "text": [
      "n\n"
     ]
    }
   ],
   "source": [
    "message = \"Python\"\n",
    "last_char = message[-1]  # Accessing the last character\n",
    "print(last_char)"
   ]
  },
  {
   "cell_type": "markdown",
   "metadata": {},
   "source": [
    "## String Methods in Python\n",
    "\n",
    "   - \"Python provides a variety of built-in methods for manipulating strings. These methods empower you to perform powerful operations on text data effortlessly.\"\n",
    "\n",
    "**Common String Methods:**\n",
    "   - \"Let's explore some of the essential string methods:\"\n",
    "\n",
    "     - **`len()`:**\n",
    "       - \"Returns the length of the string.\"\n",
    "       - Example:\n",
    "         ```python\n",
    "         message = \"Hello, Python!\"\n",
    "         length = len(message)  # Output: 14\n",
    "         ```"
   ]
  },
  {
   "cell_type": "code",
   "execution_count": 23,
   "metadata": {},
   "outputs": [
    {
     "name": "stdout",
     "output_type": "stream",
     "text": [
      "14\n"
     ]
    }
   ],
   "source": [
    "message = \"Hello, Python!\"\n",
    "length = len(message)  # Output: 14\n",
    "print(length)"
   ]
  },
  {
   "cell_type": "markdown",
   "metadata": {},
   "source": [
    "\n",
    "**`upper()` and `lower()`:**\n",
    "  - \"Converts all characters to uppercase or lowercase, respectively.\"\n",
    "  - Example:\n",
    "    ```python\n",
    "    text = \"Python is Fun\"\n",
    "    uppercase = text.upper()  # Output: \"PYTHON IS FUN\"\n",
    "    lowercase = text.lower()  # Output: \"python is fun\"\n",
    "    ```"
   ]
  },
  {
   "cell_type": "code",
   "execution_count": 24,
   "metadata": {},
   "outputs": [
    {
     "name": "stdout",
     "output_type": "stream",
     "text": [
      "Upper:  PYTHON IS FUN\n",
      "Lower:  python is fun\n"
     ]
    }
   ],
   "source": [
    "text = \"Python is Fun\"\n",
    "uppercase = text.upper()  \n",
    "lowercase = text.lower()  \n",
    "print (\"Upper: \", uppercase)\n",
    "print(\"Lower: \",lowercase)"
   ]
  },
  {
   "cell_type": "markdown",
   "metadata": {},
   "source": [
    "**`count()`:**\n",
    "- \"Counts the occurrences of a substring in the string.\"\n",
    "- Example:\n",
    "\n",
    "```python\n",
    "sentence = \"Python is powerful and fun.\"\n",
    "count_o = sentence.count(\"o\")  # Output: 2\n",
    "```"
   ]
  },
  {
   "cell_type": "code",
   "execution_count": 26,
   "metadata": {},
   "outputs": [
    {
     "data": {
      "text/plain": [
       "2"
      ]
     },
     "execution_count": 26,
     "metadata": {},
     "output_type": "execute_result"
    }
   ],
   "source": [
    "sentence = \"Python is powerful and fun.\"\n",
    "count_o = sentence.count(\"o\")  \n",
    "count_o"
   ]
  },
  {
   "cell_type": "markdown",
   "metadata": {},
   "source": [
    "**`find()` and `replace()`:**\n",
    "- \"`find()` returns the index of the first occurrence of a substring, and `replace()` replaces a substring with another.\"\n",
    "- Example:\n",
    "```python\n",
    "sentence = \"Python is powerful and fun.\"\n",
    "index_of_powerful = sentence.find(\"powerful\")  # Output: 10\n",
    "updated_sentence = sentence.replace(\"powerful\", \"versatile\")"
   ]
  },
  {
   "cell_type": "code",
   "execution_count": 27,
   "metadata": {},
   "outputs": [
    {
     "name": "stdout",
     "output_type": "stream",
     "text": [
      "index of powerful is:  10\n",
      "The string after update is:  Python is versatile and fun.\n"
     ]
    }
   ],
   "source": [
    "sentence = \"Python is powerful and fun.\"\n",
    "index_of_powerful = sentence.find(\"powerful\")  # Output: 10\n",
    "updated_sentence = sentence.replace(\"powerful\", \"versatile\")\n",
    "\n",
    "print(\"index of powerful is: \", index_of_powerful)\n",
    "print(\"The string after update is: \", updated_sentence)"
   ]
  },
  {
   "cell_type": "markdown",
   "metadata": {},
   "source": [
    "**Additional String Methods:**\n",
    "   - Python offers many more string methods. Some notable ones include:\n",
    "     - `startswith()`, `endswith()`\n",
    "     - `strip()`, `rstrip()`, `lstrip()`\n",
    "     - `isdigit()`, `isalpha()`, `isspace()`\n",
    "     - Explore these for specific tasks.\n",
    "\n",
    "**Chaining Methods:**\n",
    "   - You can chain multiple string methods for more complex operations.\n",
    "   - Example:\n",
    "     ```python\n",
    "     text = \"   Python is awesome!   \"\n",
    "     cleaned_text = text.strip().lower().replace(\"python\", \"Java\")\n",
    "     ```\n",
    "- When using string methods, consider:\n",
    "     - Understanding the purpose of each method.\n",
    "     - Applying methods according to your specific task.\n",
    "     - Ensuring that methods are used in a way that enhances code readability."
   ]
  },
  {
   "cell_type": "markdown",
   "metadata": {},
   "source": [
    "## String Formatting\n",
    "\n",
    "**f-strings (Formatted String Literals):**\n",
    "   - f-strings provides a concise and readable way to embed expressions inside string literals.\n",
    "   - Example:\n",
    "     ```python\n",
    "     name = \"Ali\"\n",
    "     age = 25\n",
    "     message = f\"Hello, my name is {name}, and I am {age} years old.\"\n",
    "     ```"
   ]
  },
  {
   "cell_type": "code",
   "execution_count": 29,
   "metadata": {},
   "outputs": [
    {
     "name": "stdout",
     "output_type": "stream",
     "text": [
      "Hello, my name is Ali, and I am 25 years old.\n"
     ]
    }
   ],
   "source": [
    "name = \"Ali\"\n",
    "age = 25\n",
    "message = f\"Hello, my name is {name}, and I am {age} years old.\"\n",
    "print(message)"
   ]
  },
  {
   "cell_type": "markdown",
   "metadata": {},
   "source": [
    "**String Format Method:**\n",
    "   - The `format()` method is used for string formatting.\n",
    "   - Example:\n",
    "     ```python\n",
    "     product = \"Python Book\"\n",
    "     price = 29.99\n",
    "     details = \"Product: {}, Price: OMR {:.2f}\".format(product, price)\n",
    "     ```\n"
   ]
  },
  {
   "cell_type": "code",
   "execution_count": 36,
   "metadata": {},
   "outputs": [
    {
     "data": {
      "text/plain": [
       "'Product: Python Book, Price: OMR 29.13'"
      ]
     },
     "execution_count": 36,
     "metadata": {},
     "output_type": "execute_result"
    }
   ],
   "source": [
    "product = \"Python Book\"\n",
    "price = 29.127\n",
    "details = \"Product: {}, Price: OMR {:.2f}\".format(product, price)\n",
    "details"
   ]
  },
  {
   "cell_type": "markdown",
   "metadata": {},
   "source": [
    "**Alignment and Width:**\n",
    "   - To control the alignment and width of formatted strings.\n",
    "   - Example:\n",
    "   \n",
    "```python\n",
    "text = \"Python\"\n",
    "formatted_text = \"{:<10}\".format(text)\n",
    "```"
   ]
  },
  {
   "cell_type": "code",
   "execution_count": 45,
   "metadata": {},
   "outputs": [
    {
     "data": {
      "text/plain": [
       "'Python    '"
      ]
     },
     "execution_count": 45,
     "metadata": {},
     "output_type": "execute_result"
    }
   ],
   "source": [
    "text = \"Python\"\n",
    "text1 = \"{:<10}\".format(text)\n",
    "text1"
   ]
  },
  {
   "cell_type": "code",
   "execution_count": 46,
   "metadata": {},
   "outputs": [
    {
     "data": {
      "text/plain": [
       "'    Python'"
      ]
     },
     "execution_count": 46,
     "metadata": {},
     "output_type": "execute_result"
    }
   ],
   "source": [
    "text = \"Python\"\n",
    "text1 = \"{:>10}\".format(text)\n",
    "text1"
   ]
  },
  {
   "cell_type": "markdown",
   "metadata": {},
   "source": [
    "**Precision in Floating-Point Numbers:**\n",
    "   - To control precision when formatting floating-point numbers.\n",
    "   - Example:\n",
    "     ```python\n",
    "     pi_value = 3.14159\n",
    "     formatted_pi = \"Value of pi: {:.2f}\".format(pi_value)\n",
    "     ```\n",
    "\n",
    "**Notes:**\n",
    "    - string formatting does not modify the original strings.\n",
    "    - f-strings are available from Python 3.6 onwards."
   ]
  },
  {
   "cell_type": "code",
   "execution_count": 47,
   "metadata": {},
   "outputs": [
    {
     "data": {
      "text/plain": [
       "'Value of pi: 3.14'"
      ]
     },
     "execution_count": 47,
     "metadata": {},
     "output_type": "execute_result"
    }
   ],
   "source": [
    "pi_value = 3.14159\n",
    "formatted_pi = \"Value of pi: {:.2f}\".format(pi_value)\n",
    "formatted_pi"
   ]
  },
  {
   "cell_type": "markdown",
   "metadata": {},
   "source": [
    "## String Slicing in Python\n",
    "   - Extracting Substrings with Precision\n",
    "   - String slicing is a powerful technique in Python that allows us to extract specific portions of a string. \n",
    "   - Let's explore how slicing works and how it can be a valuable tool for manipulating text data.\n",
    "\n",
    "**Basic String Slicing Example:**\n",
    "```python\n",
    "     phrase = \"Python is versatile\"\n",
    "     subset = phrase[7:15]  # Slicing to get \"is versatile\"\n",
    "     print(subset)\n",
    "```"
   ]
  },
  {
   "cell_type": "code",
   "execution_count": 48,
   "metadata": {},
   "outputs": [
    {
     "name": "stdout",
     "output_type": "stream",
     "text": [
      "is versa\n"
     ]
    }
   ],
   "source": [
    "phrase = \"Python is versatile\"\n",
    "subset = phrase[7:15]  # Slicing to get \"is versatile\"\n",
    "print(subset)"
   ]
  },
  {
   "cell_type": "markdown",
   "metadata": {},
   "source": [
    "**Slicing with Steps:**\n",
    "```python\n",
    "     numbers = \"0123456789\"\n",
    "     even_numbers = numbers[1:10:2]  # Slicing with steps to get even numbers\n",
    "     print(even_numbers)\n",
    "```"
   ]
  },
  {
   "cell_type": "code",
   "execution_count": 50,
   "metadata": {},
   "outputs": [
    {
     "name": "stdout",
     "output_type": "stream",
     "text": [
      "02468\n"
     ]
    }
   ],
   "source": [
    "numbers = \"0123456789\"\n",
    "even_numbers = numbers[0:10:2]  # Slicing with steps to get even numbers\n",
    "print(even_numbers)"
   ]
  },
  {
   "cell_type": "markdown",
   "metadata": {},
   "source": [
    "**Negative Indexing in Slicing:**\n",
    "```python\n",
    "      text = \"Python is amazing \"\n",
    "      last_word = text[-8:-1]  # Slicing using negative indices\n",
    "      print(last_word)\n",
    "```"
   ]
  },
  {
   "cell_type": "code",
   "execution_count": 54,
   "metadata": {},
   "outputs": [
    {
     "name": "stdout",
     "output_type": "stream",
     "text": [
      "amazing\n"
     ]
    }
   ],
   "source": [
    "text = \"Python is amazing \"\n",
    "last_word = text[-8:-1]  # Slicing using negative indices\n",
    "print(last_word)"
   ]
  },
  {
   "cell_type": "markdown",
   "metadata": {},
   "source": [
    "## Escape Characters in Python\n",
    "\n",
    "   - \"Escape characters are a crucial part of string handling in Python, \n",
    "   - allowing us to include special characters that may otherwise be challenging to represent directly. \n",
    "   - Let's explore how escape characters enhance string flexibility.\"\n",
    "\n",
    "   - \"Escape characters are used to represent characters with special meanings in strings. They begin with a backslash (`\\`).\"\n",
    "\n",
    "**Common Escape Characters:**\n",
    "\n",
    "| Escape Character | Description                        | Example                     | Result          |\n",
    "|------------------|------------------------------------|-----------------------------|-----------------|\n",
    "| `\\n`             | Newline                            | `\"Hello,\\nPython!\"`         | Hello,<br>Python!|\n",
    "| `\\t`             | Tab                                | `\"Indented.\\tTabbed!\"`       | Indented.    Tabbed! |\n",
    "| `\\\\`             | Backslash                          | `\"C:\\\\Users\\\\Username\"`     | C:\\Users\\Username|\n",
    "| `\\'`             | Single Quote                       | `\\'This is a quote.\\'`      | 'This is a quote.'|\n",
    "| `\\\"`             | Double Quote                       | `\"This is a quote in \\\"quotes\\\".\"` | This is a quote in \"quotes\".|\n",
    "\n",
    "\n",
    "   - **Newline (`\\n`):**\n",
    "     - \"Creates a new line in the string.\"\n",
    "```python\n",
    "       message = \"Hello,\\nPython!\"\n",
    "```\n",
    "\n",
    "- **Tab (`\\t`):**\n",
    "     - \"Inserts a tab character in the string.\"\n",
    "```python\n",
    "       indented_text = \"This is indented.\\tTabbed!\"\n",
    "```\n",
    "\n",
    "   - **Backslash (`\\\\`):**\n",
    "     - \"Escapes the backslash character itself.\"\n",
    "```python\n",
    "       path = \"C:\\\\Users\\\\Username\\\\Documents\"\n",
    "```\n",
    "\n",
    "   - **Single Quote (`\\'`) and Double Quote (`\\\"`):**\n",
    "     - \"Allows inclusion of single or double quotes within a string.\"\n",
    "```python\n",
    "       single_quote = 'This is a single quote (\\').'\n",
    "       double_quote = \"This is a double quote (\\\").\"\n",
    "```\n",
    "\n",
    "**Raw Strings:**\n",
    "   - Useful when you want to treat backslashes as literal characters, common in regular expressions or file paths.\"\n",
    "```python\n",
    "     raw_path = r\"C:\\Users\\Username\\Documents\"\n",
    "```"
   ]
  },
  {
   "cell_type": "code",
   "execution_count": 56,
   "metadata": {},
   "outputs": [
    {
     "name": "stdout",
     "output_type": "stream",
     "text": [
      "Hello,\n",
      "Python!\n"
     ]
    }
   ],
   "source": [
    "message = \"Hello,\\nPython!\"\n",
    "print(message)"
   ]
  },
  {
   "cell_type": "markdown",
   "metadata": {},
   "source": [
    "## String Splitting in Python\n",
    "\n",
    "- String splitting is a fundamental operation in Python that allows us to break a string into smaller parts based on a specified delimiter. \n",
    "\n",
    "**Introduction to `split()` Method:**\n",
    "   - \"The `split()` method is a built-in string method in Python used to split a string into a list of substrings based on a specified delimiter.\"\n",
    "\n",
    "**Basic `split()` Example:**\n",
    "```python\n",
    "     sentence = \"Python is versatile and powerful.\"\n",
    "     words = sentence.split()\n",
    "     print(words)\n",
    "```\n",
    "   - Output: `['Python', 'is', 'versatile', 'and', 'powerful.']`\n"
   ]
  },
  {
   "cell_type": "code",
   "execution_count": 57,
   "metadata": {},
   "outputs": [
    {
     "name": "stdout",
     "output_type": "stream",
     "text": [
      "['Python', 'is', 'versatile', 'and', 'powerful.']\n"
     ]
    }
   ],
   "source": [
    "sentence = \"Python is versatile and powerful.\"\n",
    "words = sentence.split()\n",
    "print(words)"
   ]
  },
  {
   "cell_type": "markdown",
   "metadata": {},
   "source": [
    "**Specifying a Delimiter:**\n",
    "   - \"By default, `split()` uses whitespace as the delimiter. However, you can specify a custom delimiter using the argument.\"\n",
    "```python\n",
    "     date = \"2022-02-18\"\n",
    "     components = date.split(\"-\")\n",
    "     print(components)\n",
    "```\n",
    "   - Output: `['2022', '02', '18']`\n"
   ]
  },
  {
   "cell_type": "code",
   "execution_count": 58,
   "metadata": {},
   "outputs": [
    {
     "name": "stdout",
     "output_type": "stream",
     "text": [
      "['2022', '02', '18']\n"
     ]
    }
   ],
   "source": [
    "date = \"2022-02-18\"\n",
    "components = date.split(\"-\")\n",
    "print(components)"
   ]
  },
  {
   "cell_type": "markdown",
   "metadata": {},
   "source": [
    "## Examples and Applications\n",
    "\n",
    "**Example 1: Concatenation and Formatting**\n",
    "```python\n",
    "# Concatenation of strings\n",
    "first_name = \"ABC\"\n",
    "last_name = \"XYZ\"\n",
    "full_name = first_name + \" \" + last_name\n",
    "\n",
    "# String formatting using f-string\n",
    "age = 30\n",
    "formatted_message = f\"Hello, my name is {full_name} and I am {age} years old.\"\n",
    "print(formatted_message)\n",
    "```\n",
    "**Application:**\n",
    "This example combines strings to create a full name and uses string formatting to build a dynamic message incorporating the name and age.\n"
   ]
  },
  {
   "cell_type": "code",
   "execution_count": 59,
   "metadata": {},
   "outputs": [
    {
     "name": "stdout",
     "output_type": "stream",
     "text": [
      "Hello, my name is ABC XYZ and I am 30 years old.\n"
     ]
    }
   ],
   "source": [
    "# Concatenation of strings\n",
    "first_name = \"ABC\"\n",
    "last_name = \"XYZ\"\n",
    "full_name = first_name + \" \" + last_name\n",
    "\n",
    "# String formatting using f-string\n",
    "age = 30\n",
    "formatted_message = f\"Hello, my name is {full_name} and I am {age} years old.\"\n",
    "print(formatted_message)"
   ]
  },
  {
   "cell_type": "markdown",
   "metadata": {},
   "source": [
    "**Example 2: Indexing and Slicing**\n",
    "```python\n",
    "# Accessing characters using indexing\n",
    "message = \"Python is fun!\"\n",
    "first_char = message[0]\n",
    "last_char = message[-1]\n",
    "\n",
    "# Slicing to extract a substring\n",
    "substring = message[7:10]\n",
    "```\n",
    "**Application:**\n",
    "Indexing and slicing help in accessing specific characters or extracting substrings from a larger string, useful for various string manipulations."
   ]
  },
  {
   "cell_type": "code",
   "execution_count": 60,
   "metadata": {},
   "outputs": [
    {
     "name": "stdout",
     "output_type": "stream",
     "text": [
      "First char is:  P  and the last char is  !\n",
      "the sliced string is:  is \n"
     ]
    }
   ],
   "source": [
    "# Accessing characters using indexing\n",
    "message = \"Python is fun!\"\n",
    "first_char = message[0]\n",
    "last_char = message[-1]\n",
    "print (\"First char is: \", first_char, \" and the last char is \", last_char)\n",
    "\n",
    "# Slicing to extract a substring\n",
    "substring = message[7:10]\n",
    "print (\"the sliced string is: \", substring)"
   ]
  },
  {
   "cell_type": "markdown",
   "metadata": {},
   "source": [
    "**Example 3: String Methods**\n",
    "```python\n",
    "# Using string methods\n",
    "sentence = \"Python is powerful and versatile.\"\n",
    "length = len(sentence)\n",
    "uppercase = sentence.upper()\n",
    "word_count = sentence.count(\" \")\n",
    "```\n",
    "**Application:**\n",
    "String methods like `len()`, `upper()`, and `count()` provide information about the string length, convert case, and count occurrences, respectively."
   ]
  },
  {
   "cell_type": "code",
   "execution_count": 62,
   "metadata": {},
   "outputs": [
    {
     "name": "stdout",
     "output_type": "stream",
     "text": [
      "The length is:  33\n",
      "All caps string is:  PYTHON IS POWERFUL AND VERSATILE.\n",
      "The number of words is:  4\n"
     ]
    }
   ],
   "source": [
    "# Using string methods\n",
    "sentence = \"Python is powerful and versatile.\"\n",
    "length = len(sentence)\n",
    "print(\"The length is: \", length)\n",
    "uppercase = sentence.upper()\n",
    "print(\"All caps string is: \", uppercase)\n",
    "word_count = sentence.count(\" \")\n",
    "print(\"The number of words is: \", word_count)"
   ]
  },
  {
   "cell_type": "markdown",
   "metadata": {},
   "source": [
    "**Example 4: String Formatting with Escape Characters**\n",
    "```python\n",
    "# Including special characters using escape characters\n",
    "escaped_text = \"This string includes a newline.\\nAnd a tab character:\\tTabs!\"\n",
    "```\n",
    "**Application:**\n",
    "Escape characters are used to represent special characters like newline and tab within a string, which is useful for formatting and displaying text.\n"
   ]
  },
  {
   "cell_type": "code",
   "execution_count": 63,
   "metadata": {},
   "outputs": [
    {
     "name": "stdout",
     "output_type": "stream",
     "text": [
      "This string includes a newline.\n",
      "And a tab character:\tTabs!\n"
     ]
    }
   ],
   "source": [
    "# Including special characters using escape characters\n",
    "escaped_text = \"This string includes a newline.\\nAnd a tab character:\\tTabs!\"\n",
    "print(escaped_text)"
   ]
  },
  {
   "cell_type": "markdown",
   "metadata": {},
   "source": [
    "## Exercises\n",
    "1. Write a program that takes a user's first name, last name, and age as input, then prints a formatted message using string concatenation or f-strings.\n",
    "\n",
    "2. Given a string, extract and print the first three characters, the last four characters, and a substring in the middle.\n",
    "\n",
    "3. Write a program that takes a sentence as input and prints the sentence in uppercase. Count the number of spaces in the sentence and print the result.\n",
    "\n",
    "4. Create a string that includes a newline character and a tab character. Print the string to observe the formatting.\n",
    "\n",
    "5. Given a sentence, replace all occurrences of a specific word with another word. Print the modified sentence.\n",
    "\n",
    "6. Write a program that formats a date using different formatting styles (e.g., \"January 15, 2022\" or \"15/01/2022\").\n",
    "\n",
    "7. Create a program that checks if a given string is a valid email address. Validate the format based on common email rules.\n",
    "\n",
    "8. Write a program that takes a paragraph as input and counts the number of words. Display the word count.\n",
    "\n",
    "9. Write a program that takes a string as input and prints the reverse of the string.\n",
    "\n",
    "10. Consider your email address, show what information you can extract from it.\n"
   ]
  }
 ],
 "metadata": {
  "kernelspec": {
   "display_name": "Python 3",
   "language": "python",
   "name": "python3"
  },
  "language_info": {
   "codemirror_mode": {
    "name": "ipython",
    "version": 3
   },
   "file_extension": ".py",
   "mimetype": "text/x-python",
   "name": "python",
   "nbconvert_exporter": "python",
   "pygments_lexer": "ipython3",
   "version": "3.12.0"
  }
 },
 "nbformat": 4,
 "nbformat_minor": 2
}
