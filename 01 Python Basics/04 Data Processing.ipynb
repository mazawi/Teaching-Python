{
 "cells": [
  {
   "cell_type": "markdown",
   "metadata": {},
   "source": [
    "# Data Processing"
   ]
  },
  {
   "cell_type": "markdown",
   "metadata": {},
   "source": [
    "## Lists "
   ]
  },
  {
   "cell_type": "code",
   "execution_count": 1,
   "metadata": {},
   "outputs": [
    {
     "name": "stdout",
     "output_type": "stream",
     "text": [
      "['Ali', 'Ahmed', 'Aisha']\n"
     ]
    }
   ],
   "source": [
    "students = ['Ali', 'Ahmed', 'Aisha']\n",
    "print (students)"
   ]
  },
  {
   "cell_type": "markdown",
   "metadata": {},
   "source": [
    "Using Constructor"
   ]
  },
  {
   "cell_type": "code",
   "execution_count": 2,
   "metadata": {},
   "outputs": [
    {
     "name": "stdout",
     "output_type": "stream",
     "text": [
      "['Ali', 'Ahmed', 'Aisha']\n"
     ]
    }
   ],
   "source": [
    "students1 = list (('Ali', 'Ahmed', 'Aisha'))\n",
    "print (students1)"
   ]
  },
  {
   "cell_type": "markdown",
   "metadata": {},
   "source": [
    "Length of the string"
   ]
  },
  {
   "cell_type": "code",
   "execution_count": 3,
   "metadata": {},
   "outputs": [
    {
     "name": "stdout",
     "output_type": "stream",
     "text": [
      "3\n"
     ]
    }
   ],
   "source": [
    "x = len(students1)\n",
    "print(x)"
   ]
  },
  {
   "cell_type": "markdown",
   "metadata": {},
   "source": [
    "Access a specific item in the list according to its index"
   ]
  },
  {
   "cell_type": "code",
   "execution_count": 4,
   "metadata": {},
   "outputs": [
    {
     "name": "stdout",
     "output_type": "stream",
     "text": [
      "Ali\n"
     ]
    }
   ],
   "source": [
    "students = ['Ali', 'Ahmed', 'Aisha']\n",
    "print (students[0])"
   ]
  },
  {
   "cell_type": "markdown",
   "metadata": {},
   "source": [
    "Allow repetition "
   ]
  },
  {
   "cell_type": "code",
   "execution_count": 5,
   "metadata": {},
   "outputs": [
    {
     "name": "stdout",
     "output_type": "stream",
     "text": [
      "['Ali', 'Ahmed', 'Aisha', 'Ali']\n"
     ]
    }
   ],
   "source": [
    "students = ['Ali', 'Ahmed', 'Aisha', 'Ali']\n",
    "print (students)"
   ]
  },
  {
   "cell_type": "markdown",
   "metadata": {},
   "source": [
    "Type of the list type()"
   ]
  },
  {
   "cell_type": "code",
   "execution_count": 7,
   "metadata": {},
   "outputs": [
    {
     "name": "stdout",
     "output_type": "stream",
     "text": [
      "<class 'list'>\n"
     ]
    }
   ],
   "source": [
    "students = ['Ali', 'Ahmed', 'Aisha', 'Ali']\n",
    "print (type(students))"
   ]
  },
  {
   "cell_type": "markdown",
   "metadata": {},
   "source": [
    "Reverse order index"
   ]
  },
  {
   "cell_type": "code",
   "execution_count": 8,
   "metadata": {},
   "outputs": [
    {
     "name": "stdout",
     "output_type": "stream",
     "text": [
      "Aisha\n"
     ]
    }
   ],
   "source": [
    "students = ['Ali', 'Ahmed', 'Aisha']\n",
    "print (students[-1])"
   ]
  },
  {
   "cell_type": "markdown",
   "metadata": {},
   "source": [
    "Range of indexes "
   ]
  },
  {
   "cell_type": "code",
   "execution_count": 10,
   "metadata": {},
   "outputs": [
    {
     "name": "stdout",
     "output_type": "stream",
     "text": [
      "['Ahmed', 'Aisha']\n",
      "['Ali', 'Ahmed', 'Aisha']\n",
      "['Ahmed', 'Aisha', 'Ali', 'Fatima', 'Abdullah']\n"
     ]
    }
   ],
   "source": [
    "students = ['Ali', 'Ahmed', 'Aisha', 'Ali','Fatima', 'Abdullah']\n",
    "print (students[1:3])\n",
    "print (students[:3])\n",
    "print (students[1:])"
   ]
  },
  {
   "cell_type": "markdown",
   "metadata": {},
   "source": [
    "Checking if an item exists in the list"
   ]
  },
  {
   "cell_type": "code",
   "execution_count": 13,
   "metadata": {},
   "outputs": [
    {
     "name": "stdout",
     "output_type": "stream",
     "text": [
      "True\n",
      "False\n"
     ]
    }
   ],
   "source": [
    "students = ['Ali', 'Ahmed', 'Aisha', 'Ali','Fatima', 'Abdullah']\n",
    "x = 'Ali' in students\n",
    "print (x)\n",
    "x = 'ali' in students\n",
    "print(x)"
   ]
  },
  {
   "cell_type": "markdown",
   "metadata": {},
   "source": [
    "Change List Items"
   ]
  },
  {
   "cell_type": "code",
   "execution_count": 17,
   "metadata": {},
   "outputs": [
    {
     "name": "stdout",
     "output_type": "stream",
     "text": [
      "List before change:  ['Ali', 'Ahmed', 'Aisha']\n",
      "List after change:  ['Abdullah', 'Ahmed', 'Aisha']\n"
     ]
    }
   ],
   "source": [
    "students = ['Ali', 'Ahmed', 'Aisha']\n",
    "print ('List before change: ', students)\n",
    "students [0] = \"Abdullah\"\n",
    "print ('List after change: ', students)"
   ]
  },
  {
   "cell_type": "markdown",
   "metadata": {},
   "source": [
    "Insert Items"
   ]
  },
  {
   "cell_type": "code",
   "execution_count": 18,
   "metadata": {},
   "outputs": [
    {
     "name": "stdout",
     "output_type": "stream",
     "text": [
      "List before change:  ['Ali', 'Ahmed', 'Aisha']\n",
      "List after change:  ['Ali', 'Ahmed', 'Muneera', 'Aisha']\n"
     ]
    }
   ],
   "source": [
    "students = ['Ali', 'Ahmed', 'Aisha']\n",
    "print ('List before change: ', students)\n",
    "students.insert(2, 'Muneera')\n",
    "print ('List after change: ', students)"
   ]
  },
  {
   "cell_type": "markdown",
   "metadata": {},
   "source": [
    "Append Items"
   ]
  },
  {
   "cell_type": "code",
   "execution_count": 19,
   "metadata": {},
   "outputs": [
    {
     "name": "stdout",
     "output_type": "stream",
     "text": [
      "List before change:  ['Ali', 'Ahmed', 'Aisha']\n",
      "List After change:  ['Ali', 'Ahmed', 'Aisha', 'Muneera']\n"
     ]
    }
   ],
   "source": [
    "students = ['Ali', 'Ahmed', 'Aisha']\n",
    "print ('List before change: ', students)\n",
    "students.append('Muneera')\n",
    "print ('List After change: ', students)"
   ]
  },
  {
   "cell_type": "markdown",
   "metadata": {},
   "source": [
    "Extend List"
   ]
  },
  {
   "cell_type": "code",
   "execution_count": 21,
   "metadata": {},
   "outputs": [
    {
     "name": "stdout",
     "output_type": "stream",
     "text": [
      "List after change:  ['Ali', 'Ahmed', 'Aisha', 'Fatima', 'Said']\n"
     ]
    }
   ],
   "source": [
    "students = ['Ali', 'Ahmed', 'Aisha']\n",
    "new = ['Fatima', 'Said']\n",
    "students.extend(new)\n",
    "print ('List after change: ', students)"
   ]
  },
  {
   "cell_type": "markdown",
   "metadata": {},
   "source": [
    "Remove an Item"
   ]
  },
  {
   "cell_type": "code",
   "execution_count": 24,
   "metadata": {},
   "outputs": [
    {
     "name": "stdout",
     "output_type": "stream",
     "text": [
      "List before change:  ['Ali', 'Ahmed', 'Aisha']\n",
      "List After change:  ['Ali', 'Aisha']\n"
     ]
    }
   ],
   "source": [
    "students = ['Ali', 'Ahmed', 'Aisha']\n",
    "print ('List before change: ', students)\n",
    "students.remove('Ahmed')\n",
    "print ('List After change: ', students)"
   ]
  },
  {
   "cell_type": "markdown",
   "metadata": {},
   "source": [
    "Remove Specified Index"
   ]
  },
  {
   "cell_type": "code",
   "execution_count": 27,
   "metadata": {},
   "outputs": [
    {
     "name": "stdout",
     "output_type": "stream",
     "text": [
      "List before change:  ['Ali', 'Ahmed', 'Aisha']\n",
      "List After change:  ['Ali', 'Aisha']\n"
     ]
    }
   ],
   "source": [
    "students = ['Ali', 'Ahmed', 'Aisha']\n",
    "print ('List before change: ', students)\n",
    "students.pop(1)\n",
    "print ('List After change: ', students)"
   ]
  },
  {
   "cell_type": "markdown",
   "metadata": {},
   "source": [
    "Sorting a List"
   ]
  },
  {
   "cell_type": "code",
   "execution_count": 28,
   "metadata": {},
   "outputs": [
    {
     "name": "stdout",
     "output_type": "stream",
     "text": [
      "List before change:  ['Ali', 'Ahmed', 'Aisha']\n",
      "List After change:  ['Ahmed', 'Aisha', 'Ali']\n"
     ]
    }
   ],
   "source": [
    "students = ['Ali', 'Ahmed', 'Aisha']\n",
    "print ('List before change: ', students)\n",
    "students.sort()\n",
    "print ('List After change: ', students)"
   ]
  },
  {
   "cell_type": "markdown",
   "metadata": {},
   "source": [
    "Copy a List"
   ]
  },
  {
   "cell_type": "code",
   "execution_count": 29,
   "metadata": {},
   "outputs": [
    {
     "name": "stdout",
     "output_type": "stream",
     "text": [
      "original list:  ['Ali', 'Ahmed', 'Aisha']\n",
      "Copied list:  ['Ali', 'Ahmed', 'Aisha']\n"
     ]
    }
   ],
   "source": [
    "students = ['Ali', 'Ahmed', 'Aisha']\n",
    "print ('original list: ', students)\n",
    "s = students.copy()\n",
    "print ('Copied list: ', s)"
   ]
  },
  {
   "cell_type": "markdown",
   "metadata": {},
   "source": [
    "Join Two Lists"
   ]
  },
  {
   "cell_type": "code",
   "execution_count": 30,
   "metadata": {},
   "outputs": [
    {
     "name": "stdout",
     "output_type": "stream",
     "text": [
      "['a', 'b', 'c', 1, 2, 3]\n"
     ]
    }
   ],
   "source": [
    "list1 = [\"a\", \"b\", \"c\"]\n",
    "list2 = [1, 2, 3]\n",
    "\n",
    "list3 = list1 + list2\n",
    "print(list3)"
   ]
  },
  {
   "cell_type": "markdown",
   "metadata": {},
   "source": [
    "## Tuples "
   ]
  },
  {
   "cell_type": "markdown",
   "metadata": {},
   "source": [
    "Definition"
   ]
  },
  {
   "cell_type": "code",
   "execution_count": 34,
   "metadata": {},
   "outputs": [
    {
     "name": "stdout",
     "output_type": "stream",
     "text": [
      "The point is :  (10, 15)\n"
     ]
    }
   ],
   "source": [
    "Point2D = (10,15)\n",
    "print ('The point is : ',Point2D)"
   ]
  },
  {
   "cell_type": "code",
   "execution_count": 35,
   "metadata": {},
   "outputs": [
    {
     "name": "stdout",
     "output_type": "stream",
     "text": [
      "The point is :  (2, 3, 4)\n"
     ]
    }
   ],
   "source": [
    "Point3D = (2,3,4)\n",
    "print ('The point is : ',Point3D)"
   ]
  },
  {
   "cell_type": "code",
   "execution_count": 37,
   "metadata": {},
   "outputs": [
    {
     "name": "stdout",
     "output_type": "stream",
     "text": [
      "('Ahmed', 20, 9212345, 'Barka')\n"
     ]
    }
   ],
   "source": [
    "Student = ('Ahmed', 20, 9212345, 'Barka')\n",
    "print (Student)"
   ]
  },
  {
   "cell_type": "code",
   "execution_count": 38,
   "metadata": {},
   "outputs": [
    {
     "name": "stdout",
     "output_type": "stream",
     "text": [
      "(2, 3, 3, 4)\n"
     ]
    }
   ],
   "source": [
    "p1 = (2,3)\n",
    "p2 = (3,4)\n",
    "p3 = p1 + p2\n",
    "print (p3)"
   ]
  },
  {
   "cell_type": "markdown",
   "metadata": {},
   "source": [
    "Indexing"
   ]
  },
  {
   "cell_type": "code",
   "execution_count": 39,
   "metadata": {},
   "outputs": [
    {
     "name": "stdout",
     "output_type": "stream",
     "text": [
      "20\n"
     ]
    }
   ],
   "source": [
    "Student = ('Ahmed', 20, 9212345, 'Barka')\n",
    "print (Student[1])"
   ]
  },
  {
   "cell_type": "markdown",
   "metadata": {},
   "source": [
    "Update Tuple\n",
    "Tuples cannot be updated instead they need to be converted to lists and perform the update on the lists and convert them back to tuple as follows:\n",
    "\n"
   ]
  },
  {
   "cell_type": "code",
   "execution_count": 41,
   "metadata": {},
   "outputs": [
    {
     "name": "stdout",
     "output_type": "stream",
     "text": [
      "('Ali', 20, 9212345, 'Barka')\n"
     ]
    }
   ],
   "source": [
    "Students = ('Ahmed', 20, 9212345, 'Barka')\n",
    "temp = list(Students)\n",
    "temp[0] = 'Ali'\n",
    "Students = tuple(temp)\n",
    "print (Students)"
   ]
  },
  {
   "cell_type": "markdown",
   "metadata": {},
   "source": [
    "## Sets"
   ]
  },
  {
   "cell_type": "code",
   "execution_count": 43,
   "metadata": {},
   "outputs": [
    {
     "name": "stdout",
     "output_type": "stream",
     "text": [
      "The set is {'Ahmed', 'Ali', 'Aisha'}\n"
     ]
    }
   ],
   "source": [
    "students = {'Ali', 'Ahmed', 'Aisha', 'Ali'}\n",
    "print ('The set is', students)"
   ]
  },
  {
   "cell_type": "markdown",
   "metadata": {},
   "source": [
    "length of a set, repetition is not allowed"
   ]
  },
  {
   "cell_type": "code",
   "execution_count": 44,
   "metadata": {},
   "outputs": [
    {
     "name": "stdout",
     "output_type": "stream",
     "text": [
      "The length of the set is 3\n"
     ]
    }
   ],
   "source": [
    "students = {'Ali', 'Ahmed', 'Aisha', 'Ali'}\n",
    "x = len(students)\n",
    "print ('The length of the set is', x) "
   ]
  },
  {
   "cell_type": "markdown",
   "metadata": {},
   "source": [
    "accessing set's elements"
   ]
  },
  {
   "cell_type": "code",
   "execution_count": 45,
   "metadata": {},
   "outputs": [
    {
     "ename": "TypeError",
     "evalue": "'set' object is not subscriptable",
     "output_type": "error",
     "traceback": [
      "\u001b[1;31m---------------------------------------------------------------------------\u001b[0m",
      "\u001b[1;31mTypeError\u001b[0m                                 Traceback (most recent call last)",
      "\u001b[1;32m<ipython-input-45-d12bfcb32cc9>\u001b[0m in \u001b[0;36m<module>\u001b[1;34m\u001b[0m\n\u001b[0;32m      1\u001b[0m \u001b[0mstudents\u001b[0m \u001b[1;33m=\u001b[0m \u001b[1;33m{\u001b[0m\u001b[1;34m'Ali'\u001b[0m\u001b[1;33m,\u001b[0m \u001b[1;34m'Ahmed'\u001b[0m\u001b[1;33m,\u001b[0m \u001b[1;34m'Aisha'\u001b[0m\u001b[1;33m,\u001b[0m \u001b[1;34m'Ali'\u001b[0m\u001b[1;33m}\u001b[0m\u001b[1;33m\u001b[0m\u001b[1;33m\u001b[0m\u001b[0m\n\u001b[1;32m----> 2\u001b[1;33m \u001b[0mprint\u001b[0m \u001b[1;33m(\u001b[0m\u001b[0mstudents\u001b[0m\u001b[1;33m[\u001b[0m\u001b[1;36m0\u001b[0m\u001b[1;33m]\u001b[0m\u001b[1;33m)\u001b[0m\u001b[1;33m\u001b[0m\u001b[1;33m\u001b[0m\u001b[0m\n\u001b[0m",
      "\u001b[1;31mTypeError\u001b[0m: 'set' object is not subscriptable"
     ]
    }
   ],
   "source": [
    "students = {'Ali', 'Ahmed', 'Aisha', 'Ali'}\n",
    "print (students[0]) "
   ]
  },
  {
   "cell_type": "markdown",
   "metadata": {},
   "source": [
    "using in"
   ]
  },
  {
   "cell_type": "code",
   "execution_count": 46,
   "metadata": {},
   "outputs": [
    {
     "name": "stdout",
     "output_type": "stream",
     "text": [
      "False\n",
      "True\n"
     ]
    }
   ],
   "source": [
    "students = {'Ali', 'Ahmed', 'Aisha'}\n",
    "x = 'ali' in students   # false because a not A\n",
    "print(x)\n",
    "y = 'Ali' in students\n",
    "print(y)"
   ]
  },
  {
   "cell_type": "markdown",
   "metadata": {},
   "source": [
    "Add Sets"
   ]
  },
  {
   "cell_type": "code",
   "execution_count": 51,
   "metadata": {},
   "outputs": [
    {
     "name": "stdout",
     "output_type": "stream",
     "text": [
      "{'b', 1, 2, 3, 'c', 'a'}\n"
     ]
    }
   ],
   "source": [
    "set1 = {'a', 'b', 'c'}\n",
    "set2 = {1, 2,3}\n",
    "set1.update(set2)\n",
    "print (set1)"
   ]
  },
  {
   "cell_type": "markdown",
   "metadata": {},
   "source": [
    "Add element to a Set"
   ]
  },
  {
   "cell_type": "code",
   "execution_count": 52,
   "metadata": {},
   "outputs": [
    {
     "name": "stdout",
     "output_type": "stream",
     "text": [
      "{'b', 'w', 'c', 'a'}\n"
     ]
    }
   ],
   "source": [
    "set1 = {'a', 'b', 'c'}\n",
    "set1.add('w')\n",
    "print (set1)"
   ]
  },
  {
   "cell_type": "markdown",
   "metadata": {},
   "source": [
    "Remove Item"
   ]
  },
  {
   "cell_type": "code",
   "execution_count": 53,
   "metadata": {},
   "outputs": [
    {
     "name": "stdout",
     "output_type": "stream",
     "text": [
      "set before change: {'b', 'c', 'a'}\n",
      "set after change: {'c', 'a'}\n"
     ]
    }
   ],
   "source": [
    "set1 = {'a', 'b', 'c'}\n",
    "print('set before change:', set1)\n",
    "set1.remove('b')\n",
    "print('set after change:', set1)"
   ]
  },
  {
   "cell_type": "markdown",
   "metadata": {},
   "source": [
    "## Dictionaries "
   ]
  },
  {
   "cell_type": "code",
   "execution_count": 54,
   "metadata": {},
   "outputs": [
    {
     "name": "stdout",
     "output_type": "stream",
     "text": [
      "{'ali': 80, 'Ahmed': 70}\n"
     ]
    }
   ],
   "source": [
    "dic = { 'ali': 80,\n",
    "       'Ahmed': 70 }\n",
    "print (dic)"
   ]
  },
  {
   "cell_type": "code",
   "execution_count": 58,
   "metadata": {},
   "outputs": [
    {
     "name": "stdout",
     "output_type": "stream",
     "text": [
      "80\n"
     ]
    }
   ],
   "source": [
    "dic = { 'ali': 80,\n",
    "       'Ahmed': 70 }\n",
    "print (dic['ali'])"
   ]
  },
  {
   "cell_type": "code",
   "execution_count": null,
   "metadata": {},
   "outputs": [],
   "source": []
  },
  {
   "cell_type": "code",
   "execution_count": null,
   "metadata": {},
   "outputs": [],
   "source": []
  },
  {
   "cell_type": "code",
   "execution_count": null,
   "metadata": {},
   "outputs": [],
   "source": []
  },
  {
   "cell_type": "code",
   "execution_count": null,
   "metadata": {},
   "outputs": [],
   "source": []
  }
 ],
 "metadata": {
  "kernelspec": {
   "display_name": "Python 3 (ipykernel)",
   "language": "python",
   "name": "python3"
  },
  "language_info": {
   "codemirror_mode": {
    "name": "ipython",
    "version": 3
   },
   "file_extension": ".py",
   "mimetype": "text/x-python",
   "name": "python",
   "nbconvert_exporter": "python",
   "pygments_lexer": "ipython3",
   "version": "3.9.12"
  }
 },
 "nbformat": 4,
 "nbformat_minor": 4
}
