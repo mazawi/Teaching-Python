{
 "cells": [
  {
   "cell_type": "markdown",
   "metadata": {},
   "source": [
    "# Functions"
   ]
  },
  {
   "cell_type": "markdown",
   "metadata": {},
   "source": [
    "## Definition"
   ]
  },
  {
   "cell_type": "code",
   "execution_count": 2,
   "metadata": {},
   "outputs": [
    {
     "name": "stdout",
     "output_type": "stream",
     "text": [
      "Hi...\n",
      "Hi...\n"
     ]
    }
   ],
   "source": [
    "def SayHi():\n",
    "    print(\"Hi...\")\n",
    "\n",
    "#Call the function twice\n",
    "SayHi()\n",
    "SayHi()"
   ]
  },
  {
   "cell_type": "markdown",
   "metadata": {},
   "source": [
    "## Passing Arguments to the Function "
   ]
  },
  {
   "cell_type": "code",
   "execution_count": 3,
   "metadata": {},
   "outputs": [
    {
     "name": "stdout",
     "output_type": "stream",
     "text": [
      "Hi  Ali\n",
      "Hi  Aisha\n"
     ]
    }
   ],
   "source": [
    "def SayHiTo(name):\n",
    "    print('Hi ', name)\n",
    "    \n",
    "SayHiTo('Ali')\n",
    "SayHiTo('Aisha')"
   ]
  },
  {
   "cell_type": "markdown",
   "metadata": {},
   "source": [
    "## Returning values from the function "
   ]
  },
  {
   "cell_type": "code",
   "execution_count": 4,
   "metadata": {},
   "outputs": [
    {
     "name": "stdout",
     "output_type": "stream",
     "text": [
      "13\n"
     ]
    }
   ],
   "source": [
    "def Add(x,y):\n",
    "    z = x+y\n",
    "    return z\n",
    "\n",
    "a = 6\n",
    "b = 7\n",
    "c = Add (a,b)\n",
    "print(c)"
   ]
  },
  {
   "cell_type": "code",
   "execution_count": 6,
   "metadata": {},
   "outputs": [
    {
     "name": "stdout",
     "output_type": "stream",
     "text": [
      "13 42\n"
     ]
    }
   ],
   "source": [
    "def AddAndMul(x,y):\n",
    "    ad = x+y\n",
    "    m = x*y\n",
    "    return ad,m\n",
    "\n",
    "a = 6\n",
    "b = 7\n",
    "c, d = AddAndMul (a,b)\n",
    "print(c, d)"
   ]
  },
  {
   "cell_type": "markdown",
   "metadata": {},
   "source": [
    "## Unknown number of parameters "
   ]
  },
  {
   "cell_type": "code",
   "execution_count": 7,
   "metadata": {},
   "outputs": [
    {
     "name": "stdout",
     "output_type": "stream",
     "text": [
      "Ali\n",
      "Ahmed\n",
      "Aisha\n"
     ]
    }
   ],
   "source": [
    "def Names(*n):\n",
    "    for x in n:\n",
    "        print(x)\n",
    "        \n",
    "Names('Ali', 'Ahmed', 'Aisha')"
   ]
  },
  {
   "cell_type": "markdown",
   "metadata": {},
   "source": [
    "## Default Values "
   ]
  },
  {
   "cell_type": "code",
   "execution_count": 9,
   "metadata": {},
   "outputs": [
    {
     "name": "stdout",
     "output_type": "stream",
     "text": [
      "Hi, My name is  Ahmed I am from  Qatar\n",
      "Hi, My name is  Aisha I am from  Oman\n"
     ]
    }
   ],
   "source": [
    "def info (name, country = 'Oman'):\n",
    "    print (\"Hi, My name is \", name, 'I am from ', country)\n",
    "    \n",
    "info('Ahmed', 'Qatar')\n",
    "info('Aisha')"
   ]
  },
  {
   "cell_type": "code",
   "execution_count": null,
   "metadata": {},
   "outputs": [],
   "source": []
  }
 ],
 "metadata": {
  "kernelspec": {
   "display_name": "Python 3 (ipykernel)",
   "language": "python",
   "name": "python3"
  },
  "language_info": {
   "codemirror_mode": {
    "name": "ipython",
    "version": 3
   },
   "file_extension": ".py",
   "mimetype": "text/x-python",
   "name": "python",
   "nbconvert_exporter": "python",
   "pygments_lexer": "ipython3",
   "version": "3.9.12"
  }
 },
 "nbformat": 4,
 "nbformat_minor": 4
}
